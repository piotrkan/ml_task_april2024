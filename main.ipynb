{
 "cells": [
  {
   "cell_type": "code",
   "execution_count": 1,
   "id": "db807d86-25ae-4db7-bee3-0347db8121f8",
   "metadata": {},
   "outputs": [],
   "source": [
    "import os\n",
    "import time\n",
    "import pickle\n",
    "import prince\n",
    "import torch\n",
    "import pandas as pd\n",
    "import scipy as sp  \n",
    "import seaborn as sns\n",
    "import numpy as np\n",
    "import matplotlib.pyplot as plt\n",
    "\n",
    "from transformers import BertModel, BertTokenizer\n",
    "from sklearn.model_selection import train_test_split\n",
    "from sklearn.preprocessing import MinMaxScaler\n",
    "from sklearn.decomposition import PCA\n",
    "from sklearn.metrics import mean_squared_error, r2_score\n",
    "from sklearn.linear_model import LinearRegression, Ridge\n",
    "from sklearn.metrics import mean_squared_error, r2_score\n",
    "from torch.utils.data import  DataLoader\n",
    "from tqdm.notebook import tqdm\n",
    "\n",
    "#local codebase\n",
    "from src import utils\n",
    "from src import data\n",
    "from src import models\n",
    "from src import train"
   ]
  },
  {
   "cell_type": "markdown",
   "id": "d8ae15fc-d7ab-4c0e-9ddf-e151d04b8460",
   "metadata": {},
   "source": [
    "# 0. EDA\n",
    "In this part, I will briefly explore the data to get a good understanding of it (essential to do preprocessing & modelling correctly)\n"
   ]
  },
  {
   "cell_type": "code",
   "execution_count": 2,
   "id": "1153d97a-1a58-4af6-a063-2e11d81c3f6a",
   "metadata": {},
   "outputs": [],
   "source": [
    "#load\n",
    "thermostability_df = pd.read_csv('data/thermostability.csv', encoding='unicode_escape')"
   ]
  },
  {
   "cell_type": "code",
   "execution_count": 3,
   "id": "0a78dba8-d934-44d9-9b9e-64665bdacfbf",
   "metadata": {},
   "outputs": [
    {
     "name": "stdout",
     "output_type": "stream",
     "text": [
      "(261, 3)\n"
     ]
    },
    {
     "data": {
      "text/html": [
       "<div>\n",
       "<style scoped>\n",
       "    .dataframe tbody tr th:only-of-type {\n",
       "        vertical-align: middle;\n",
       "    }\n",
       "\n",
       "    .dataframe tbody tr th {\n",
       "        vertical-align: top;\n",
       "    }\n",
       "\n",
       "    .dataframe thead th {\n",
       "        text-align: right;\n",
       "    }\n",
       "</style>\n",
       "<table border=\"1\" class=\"dataframe\">\n",
       "  <thead>\n",
       "    <tr style=\"text-align: right;\">\n",
       "      <th></th>\n",
       "      <th>name</th>\n",
       "      <th>sequence</th>\n",
       "      <th>thermostability [¡C]</th>\n",
       "    </tr>\n",
       "  </thead>\n",
       "  <tbody>\n",
       "    <tr>\n",
       "      <th>0</th>\n",
       "      <td>variant_1</td>\n",
       "      <td>MTIKEMPQPKTFGELKNLPLLNTDKPVQALMKIADELGEIFKFEAP...</td>\n",
       "      <td>55.0</td>\n",
       "    </tr>\n",
       "    <tr>\n",
       "      <th>1</th>\n",
       "      <td>variant_2</td>\n",
       "      <td>KETSPIPQPKTFGPLGNLPLIDKDKPTLSLIKLAEEQGPIFQIHTP...</td>\n",
       "      <td>43.0</td>\n",
       "    </tr>\n",
       "    <tr>\n",
       "      <th>2</th>\n",
       "      <td>variant_3</td>\n",
       "      <td>KQASAIPQPKTYGPLKNLPHLEKEQLSQSLWRIADELGPIFRFDFP...</td>\n",
       "      <td>49.0</td>\n",
       "    </tr>\n",
       "    <tr>\n",
       "      <th>3</th>\n",
       "      <td>variant_4</td>\n",
       "      <td>KQASAIPQPKTYGPLKNLPHLEKEQLSQSLWRIADELGPIFRFDFP...</td>\n",
       "      <td>39.8</td>\n",
       "    </tr>\n",
       "    <tr>\n",
       "      <th>4</th>\n",
       "      <td>variant_5</td>\n",
       "      <td>KQASAIPQPKTYGPLKNLPHLEKEQLSQSLWRIADELGPIFRFDFP...</td>\n",
       "      <td>52.9</td>\n",
       "    </tr>\n",
       "    <tr>\n",
       "      <th>5</th>\n",
       "      <td>variant_6</td>\n",
       "      <td>KETSPIPQPKTFGPLGNLPLIDKDKPTLSLIKLAEEQGPIFQIHTP...</td>\n",
       "      <td>48.8</td>\n",
       "    </tr>\n",
       "    <tr>\n",
       "      <th>6</th>\n",
       "      <td>variant_7</td>\n",
       "      <td>KQASAIPQPKTYGPLKNLPHLEKEQLSQSLWRIADELGPIFRFDFP...</td>\n",
       "      <td>45.0</td>\n",
       "    </tr>\n",
       "    <tr>\n",
       "      <th>7</th>\n",
       "      <td>variant_8</td>\n",
       "      <td>KETSPIPQPKTFGPLGNLPLIDKDKPTLSLIKLAEEQGPIFQIHTP...</td>\n",
       "      <td>48.3</td>\n",
       "    </tr>\n",
       "    <tr>\n",
       "      <th>8</th>\n",
       "      <td>variant_9</td>\n",
       "      <td>KETSPIPQPKTFGPLGNLPLIDKDKPTLSLIKLAEEQGPIFQIHTP...</td>\n",
       "      <td>61.5</td>\n",
       "    </tr>\n",
       "    <tr>\n",
       "      <th>9</th>\n",
       "      <td>variant_10</td>\n",
       "      <td>KETSPIPQPKTFGPLGNLPLIDKDKPTLSLIKLAEEQGPIFQIHTP...</td>\n",
       "      <td>54.6</td>\n",
       "    </tr>\n",
       "  </tbody>\n",
       "</table>\n",
       "</div>"
      ],
      "text/plain": [
       "         name                                           sequence  \\\n",
       "0   variant_1  MTIKEMPQPKTFGELKNLPLLNTDKPVQALMKIADELGEIFKFEAP...   \n",
       "1   variant_2  KETSPIPQPKTFGPLGNLPLIDKDKPTLSLIKLAEEQGPIFQIHTP...   \n",
       "2   variant_3  KQASAIPQPKTYGPLKNLPHLEKEQLSQSLWRIADELGPIFRFDFP...   \n",
       "3   variant_4  KQASAIPQPKTYGPLKNLPHLEKEQLSQSLWRIADELGPIFRFDFP...   \n",
       "4   variant_5  KQASAIPQPKTYGPLKNLPHLEKEQLSQSLWRIADELGPIFRFDFP...   \n",
       "5   variant_6  KETSPIPQPKTFGPLGNLPLIDKDKPTLSLIKLAEEQGPIFQIHTP...   \n",
       "6   variant_7  KQASAIPQPKTYGPLKNLPHLEKEQLSQSLWRIADELGPIFRFDFP...   \n",
       "7   variant_8  KETSPIPQPKTFGPLGNLPLIDKDKPTLSLIKLAEEQGPIFQIHTP...   \n",
       "8   variant_9  KETSPIPQPKTFGPLGNLPLIDKDKPTLSLIKLAEEQGPIFQIHTP...   \n",
       "9  variant_10  KETSPIPQPKTFGPLGNLPLIDKDKPTLSLIKLAEEQGPIFQIHTP...   \n",
       "\n",
       "   thermostability [¡C]  \n",
       "0                  55.0  \n",
       "1                  43.0  \n",
       "2                  49.0  \n",
       "3                  39.8  \n",
       "4                  52.9  \n",
       "5                  48.8  \n",
       "6                  45.0  \n",
       "7                  48.3  \n",
       "8                  61.5  \n",
       "9                  54.6  "
      ]
     },
     "execution_count": 3,
     "metadata": {},
     "output_type": "execute_result"
    }
   ],
   "source": [
    "#show head\n",
    "print(thermostability_df.shape)\n",
    "thermostability_df.head(10)\n"
   ]
  },
  {
   "cell_type": "code",
   "execution_count": 4,
   "id": "d9253621-62ae-482a-bbc8-6fb40975808a",
   "metadata": {},
   "outputs": [
    {
     "name": "stdout",
     "output_type": "stream",
     "text": [
      "<class 'pandas.core.frame.DataFrame'>\n",
      "RangeIndex: 261 entries, 0 to 260\n",
      "Data columns (total 3 columns):\n",
      " #   Column                Non-Null Count  Dtype  \n",
      "---  ------                --------------  -----  \n",
      " 0   name                  261 non-null    object \n",
      " 1   sequence              261 non-null    object \n",
      " 2   thermostability [¡C]  261 non-null    float64\n",
      "dtypes: float64(1), object(2)\n",
      "memory usage: 6.2+ KB\n"
     ]
    }
   ],
   "source": [
    "#describe the df, including missing information\n",
    "thermostability_df.info()"
   ]
  },
  {
   "cell_type": "code",
   "execution_count": 5,
   "id": "249986f3-4367-43e8-8c1e-7476239d1b48",
   "metadata": {},
   "outputs": [
    {
     "data": {
      "text/html": [
       "<div>\n",
       "<style scoped>\n",
       "    .dataframe tbody tr th:only-of-type {\n",
       "        vertical-align: middle;\n",
       "    }\n",
       "\n",
       "    .dataframe tbody tr th {\n",
       "        vertical-align: top;\n",
       "    }\n",
       "\n",
       "    .dataframe thead th {\n",
       "        text-align: right;\n",
       "    }\n",
       "</style>\n",
       "<table border=\"1\" class=\"dataframe\">\n",
       "  <thead>\n",
       "    <tr style=\"text-align: right;\">\n",
       "      <th></th>\n",
       "      <th>name</th>\n",
       "      <th>sequence</th>\n",
       "      <th>thermostability [¡C]</th>\n",
       "    </tr>\n",
       "  </thead>\n",
       "  <tbody>\n",
       "    <tr>\n",
       "      <th>count</th>\n",
       "      <td>261</td>\n",
       "      <td>261</td>\n",
       "      <td>261.000000</td>\n",
       "    </tr>\n",
       "    <tr>\n",
       "      <th>unique</th>\n",
       "      <td>261</td>\n",
       "      <td>261</td>\n",
       "      <td>NaN</td>\n",
       "    </tr>\n",
       "    <tr>\n",
       "      <th>top</th>\n",
       "      <td>variant_1</td>\n",
       "      <td>MTIKEMPQPKTFGELKNLPLLNTDKPVQALMKIADELGEIFKFEAP...</td>\n",
       "      <td>NaN</td>\n",
       "    </tr>\n",
       "    <tr>\n",
       "      <th>freq</th>\n",
       "      <td>1</td>\n",
       "      <td>1</td>\n",
       "      <td>NaN</td>\n",
       "    </tr>\n",
       "    <tr>\n",
       "      <th>mean</th>\n",
       "      <td>NaN</td>\n",
       "      <td>NaN</td>\n",
       "      <td>51.821456</td>\n",
       "    </tr>\n",
       "    <tr>\n",
       "      <th>std</th>\n",
       "      <td>NaN</td>\n",
       "      <td>NaN</td>\n",
       "      <td>5.862987</td>\n",
       "    </tr>\n",
       "    <tr>\n",
       "      <th>min</th>\n",
       "      <td>NaN</td>\n",
       "      <td>NaN</td>\n",
       "      <td>36.000000</td>\n",
       "    </tr>\n",
       "    <tr>\n",
       "      <th>25%</th>\n",
       "      <td>NaN</td>\n",
       "      <td>NaN</td>\n",
       "      <td>47.900000</td>\n",
       "    </tr>\n",
       "    <tr>\n",
       "      <th>50%</th>\n",
       "      <td>NaN</td>\n",
       "      <td>NaN</td>\n",
       "      <td>50.900000</td>\n",
       "    </tr>\n",
       "    <tr>\n",
       "      <th>75%</th>\n",
       "      <td>NaN</td>\n",
       "      <td>NaN</td>\n",
       "      <td>55.900000</td>\n",
       "    </tr>\n",
       "    <tr>\n",
       "      <th>max</th>\n",
       "      <td>NaN</td>\n",
       "      <td>NaN</td>\n",
       "      <td>64.400000</td>\n",
       "    </tr>\n",
       "  </tbody>\n",
       "</table>\n",
       "</div>"
      ],
      "text/plain": [
       "             name                                           sequence  \\\n",
       "count         261                                                261   \n",
       "unique        261                                                261   \n",
       "top     variant_1  MTIKEMPQPKTFGELKNLPLLNTDKPVQALMKIADELGEIFKFEAP...   \n",
       "freq            1                                                  1   \n",
       "mean          NaN                                                NaN   \n",
       "std           NaN                                                NaN   \n",
       "min           NaN                                                NaN   \n",
       "25%           NaN                                                NaN   \n",
       "50%           NaN                                                NaN   \n",
       "75%           NaN                                                NaN   \n",
       "max           NaN                                                NaN   \n",
       "\n",
       "        thermostability [¡C]  \n",
       "count             261.000000  \n",
       "unique                   NaN  \n",
       "top                      NaN  \n",
       "freq                     NaN  \n",
       "mean               51.821456  \n",
       "std                 5.862987  \n",
       "min                36.000000  \n",
       "25%                47.900000  \n",
       "50%                50.900000  \n",
       "75%                55.900000  \n",
       "max                64.400000  "
      ]
     },
     "execution_count": 5,
     "metadata": {},
     "output_type": "execute_result"
    }
   ],
   "source": [
    "#visualise, need to include='all' to get info about sequence feature\n",
    "thermostability_df.describe(include='all')"
   ]
  },
  {
   "cell_type": "markdown",
   "id": "52a64a52-1826-4015-bf16-8bf02f8bc07b",
   "metadata": {},
   "source": [
    "Conclusions so far:\n",
    "* no data missing so far; no duplicates noticed (all categorical features are unique);\n",
    "* *name* feature will not be important for modelling (can use it as index); it would be good to know whether all these variants come from one protein\n",
    "* we have one categorical features and one numeric (thermostability); \n",
    "* *thermostability [¡C]* name should be changed to more programming-friendly name (i.e. no whitespace).\n",
    "\n",
    "Questions so far:\n",
    "* Are all these variants coming from originally only one protein? - the names sort of suggest that it could be all from one protein; would be good to know as then we can keep in mind the ontological/evolutionary factors\n"
   ]
  },
  {
   "cell_type": "code",
   "execution_count": 6,
   "id": "c3d1aa25-f536-4877-87de-12f5e07c1ed7",
   "metadata": {},
   "outputs": [],
   "source": [
    "#clean the names & index\n",
    "thermostability_df.columns = ['name', 'sequence', 'thermostability']\n",
    "thermostability_df.set_index('name', inplace=True)"
   ]
  },
  {
   "cell_type": "code",
   "execution_count": 7,
   "id": "f4a58374-5527-4739-be05-b8abbc0d8235",
   "metadata": {},
   "outputs": [
    {
     "name": "stdout",
     "output_type": "stream",
     "text": [
      "Shapiro test for normal distribution:  ShapiroResult(statistic=0.9749559843734045, pvalue=0.00014907561502594278)\n"
     ]
    },
    {
     "data": {
      "image/png": "[encoded data removed]",
      "text/plain": [
       "<Figure size 640x480 with 3 Axes>"
      ]
     },
     "metadata": {},
     "output_type": "display_data"
    }
   ],
   "source": [
    "#Explore thermostability feature\n",
    "\n",
    "#stats tests\n",
    "print('Shapiro test for normal distribution: ', sp.stats.shapiro(thermostability_df.thermostability))\n",
    "\n",
    "# visualisations, a few to get a better understanidng of the data\n",
    "plt.subplot(1,3,1)\n",
    "plt.suptitle('Distribution of thermostability')\n",
    "plt.ylabel('thermostability [¡C]')\n",
    "plt.xlabel('Distribution')\n",
    "sns.violinplot(y='thermostability', data=thermostability_df)\n",
    "sns.stripplot(y='thermostability', data=thermostability_df, color='red', alpha=0.35)\n",
    "#plt.violinplot(thermostability_df.thermostability)\n",
    "plt.subplot(1,3,2)\n",
    "plt.hist(thermostability_df.thermostability,bins=30)\n",
    "plt.xlabel('thermostability [¡C]')\n",
    "plt.ylabel('Count')\n",
    "plt.subplot(1,3,3)\n",
    "sns.boxplot(y='thermostability', data=thermostability_df)\n",
    "sns.stripplot(y='thermostability', data=thermostability_df, color='red', alpha=0.35)\n",
    "plt.xlabel('Distribution')\n",
    "plt.ylabel('thermostability [¡C]')\n",
    "plt.tight_layout()\n"
   ]
  },
  {
   "cell_type": "markdown",
   "id": "77cdaef5-b862-4830-977c-4ea0d8fab671",
   "metadata": {},
   "source": [
    "* There are no extreme outliers, one sequence has a very low thermostability but from visual inspection we can definitely say it's not an extreme outlier. Outlier definition by the book depends on our threshold (for example, if we decide on our threshold being 3 times std, anything outside the range of 3 * std can be considered an outlier) which **we can consult with the scientist/stakeholders (maybe only a specific range of temperatures is actually viable & stricter threshold definition is crucial)**. Either way, based on the visual inspections, there are no outliers in the data - if there are some problems with the data later down the line, I can come down & review this.\n",
    "\n",
    "* There is nothing wrong with the distribution of the target variable, however as it is not gaussian and it's quite spread out, it will require normalization - simple MinMaxScaling should suffice. \n",
    "\n",
    "* The two peaks show that while we can do a random train-test split, we need to ensure that both 'peaks' are encaptured in test and train set (as train & test need to come from the same distribution). This is especially important as it's a target for our ML model"
   ]
  },
  {
   "cell_type": "code",
   "execution_count": 8,
   "id": "a63a5103-b9bd-428d-ad8b-09711f79ebe1",
   "metadata": {},
   "outputs": [
    {
     "name": "stdout",
     "output_type": "stream",
     "text": [
      "Unique lenghts of sequences in the df:  {466} \n",
      "\n",
      "Unique amino acids in the df:  {'T', 'M', 'W', 'S', 'C', 'P', 'V', 'E', 'R', 'G', 'F', 'H', 'Y', '-', 'N', 'D', 'A', 'L', 'I', 'Q', 'K'}\n",
      "No of unique amino acids in the df:  21 \n",
      "\n",
      "No. of sequences containing \"T\":  261\n",
      "No. of sequences containing \"M\":  261\n",
      "No. of sequences containing \"W\":  261\n",
      "No. of sequences containing \"S\":  261\n",
      "No. of sequences containing \"C\":  261\n",
      "No. of sequences containing \"P\":  261\n",
      "No. of sequences containing \"V\":  261\n",
      "No. of sequences containing \"E\":  261\n",
      "No. of sequences containing \"R\":  261\n",
      "No. of sequences containing \"G\":  261\n",
      "No. of sequences containing \"F\":  261\n",
      "No. of sequences containing \"H\":  261\n",
      "No. of sequences containing \"Y\":  261\n",
      "No. of sequences containing \"-\":  109\n",
      "No. of sequences containing \"N\":  261\n",
      "No. of sequences containing \"D\":  261\n",
      "No. of sequences containing \"A\":  261\n",
      "No. of sequences containing \"L\":  261\n",
      "No. of sequences containing \"I\":  261\n",
      "No. of sequences containing \"Q\":  261\n",
      "No. of sequences containing \"K\":  261\n"
     ]
    },
    {
     "data": {
      "image/png": "[encoded data removed]",
      "text/plain": [
       "<Figure size 640x480 with 1 Axes>"
      ]
     },
     "metadata": {},
     "output_type": "display_data"
    }
   ],
   "source": [
    "#Explore sequence feature\n",
    "unique_aa = utils.examine_seq(thermostability_df, 'sequence')"
   ]
  },
  {
   "cell_type": "markdown",
   "id": "137bd618-fdda-4ae8-a47e-827551fc0e18",
   "metadata": {},
   "source": [
    "All sequences have the same length, however this could be due to '-' being present in the sequences. While it can represent a knockout of aminoacid in the mutation (i.e. where an amino acid used to be before mutation), it might be also an artifact - need to examine it in detail."
   ]
  },
  {
   "cell_type": "code",
   "execution_count": 9,
   "id": "745631f5-5aeb-4533-bd02-3f6fc9f819fd",
   "metadata": {},
   "outputs": [
    {
     "name": "stdout",
     "output_type": "stream",
     "text": [
      "MTIKEMPQPKTFGELKNLPLLNTDKPVQALMKIADELGEIFKFEAPAGTTIVVSGHELVKEVCDEERFDKSIEGALKFVRDFAGDGLATSWTHEKNWKKAHNILLPSFSQQAMKGYHAMMVDIAVQLVQKWERLNADEHIEVPEDMTRLTLDTIGLCGFNYRFNSFYRDQPHPFITSMVRALDEAMNKLQRANPDDPAYDENKRQFQEDIKVMNDLVDKIIADRKASGEQS-DDLLTHMLNGKDPETGEPLDDENIRYQIITFLIAGHETTSGLLSFALYFLVKNPHVLQKAAEEAARVLVDPVPSYKQVKQLKYVGMVLNEALRLWPTAPAFSLYAKEDTVLGGEYPLEKGDELMVLIPQLHRDKTIWGDDVEEFRPERFENPSAIPQHAFKPFGNGQRACIGQQFALHEATLVLGMMLKHFDFEDHTNYELDIKETLTLKPEGFVVKAKSKKIPLGGIPSPST-\n",
      "\n",
      "Indices where - is present:  {465, 231}\n",
      "How many times present in the last position:  66\n",
      "How many times present in the middleish position:  43\n"
     ]
    }
   ],
   "source": [
    "#show sequences containing - \n",
    "print(thermostability_df.loc[thermostability_df.sequence.str.contains('-')].sequence.values[100]) #manually explored 0, 10, 50, 100\n",
    "\n",
    "#seems like its at the end and middle - check if thats the case for all\n",
    "artifact_positions = []\n",
    "seq_of_interest= thermostability_df.loc[thermostability_df.sequence.str.contains('-')].sequence.values\n",
    "for i in range(len(seq_of_interest)):\n",
    "    artifact_positions.append(seq_of_interest[i].index('-'))\n",
    "\n",
    "print('\\nIndices where - is present: ',set(artifact_positions))\n",
    "print('How many times present in the last position: ', artifact_positions.count(465))\n",
    "print('How many times present in the middleish position: ', artifact_positions.count(231))"
   ]
  },
  {
   "cell_type": "markdown",
   "id": "17d43a2e-91bf-4629-baf9-9b044fb72c92",
   "metadata": {},
   "source": [
    "The artifact is present consistenly in the last, middle-ish or both positions. As we are working with sequence data obtained through mutations, it is very likely the '-' represents knockouts/insertions however **we should get a clarification on this from the scientists.** \n",
    "\n",
    "* If it is an artifact/error, we should either remove these samples (we would lose 109 samples so that's not possible in our case) or impute the amino acid (e.g. sklearn SimpleImputer based on the most common aa in this position; more viable option). \n",
    "* If it is a symbol indicating an insertion or knockout of a gene:\n",
    "  * we can treat it as a feature and keep it- of course that won't represent reality well (as there are no such breaks in aa sequences) and it can impact our model (for example, if we try to predict teritary structure), however for our purpose it can be suitable as we are working with mutation data (so knockouts are expected) and we want to predict a physical propety only.\n",
    "  * we can remove it as an 'artifact' - if we were to predict tertiary structure, it would be crucial to have all amino acids, thus imputation or removal of those artifacts would be more suitable. Imputation is one strategy which works well within ML realm, however we  can also remove those breaks and zero pad the sequences so they are all the same length (it's worth noting that [padding sequences is not as simple as one would think](https://www.nature.com/articles/s41598-020-71450-8) )\n",
    "\n",
    "As I mentioned, we should get a clarificaiton and second opinion on this from the scientists who generated the data; if we had more time, we could also examine different methods. In my case though, I assume the symbol indicates an insertion/knockout and thus I will keep it & treat it as a feature (this way all sequences are the same length too, so it makes our lives & models' lives easier). If I have time I will explore this padding /imputation strategy later.\n"
   ]
  },
  {
   "attachments": {},
   "cell_type": "markdown",
   "id": "ad8ee418",
   "metadata": {},
   "source": [
    "Normally, it would be also important to examine the distribution & clusterings of input data, however because the raw data is in the string format, it's not as simple. We can conduct PCA on the embeddings or one-hote encode the data and conduct MCA (PCA doesnt work well for categorical variables)) however that can be done only after preprocessing. So once we have feature representations, I will explore the sequences in greater detail."
   ]
  },
  {
   "attachments": {},
   "cell_type": "markdown",
   "id": "5f61e466-af6c-41a7-9aca-088469ac8ae3",
   "metadata": {},
   "source": [
    "Conclusions from exploring features:\n",
    "* thermostability feature has no extreme outliers, can be normalized with usual min-max scaling.\n",
    "  * we should consult stakeholders to decide what is a suitable stakeholder definition, if our assumption is OK with them \n",
    "* many sequence variants (109) have '-' symbol which is most likely a knockout/insertion but we should get clarification on this from the scientists\n",
    "* we are keeping - symbol as a feature, therefore all variants have the same length, no need to pad the sequences \n",
    "* amino acids are present in different proportions in the data however each aminoacid is present in every sequence, thus it's quite diversified"
   ]
  },
  {
   "attachments": {},
   "cell_type": "markdown",
   "id": "2de71a7e-95cb-488c-8107-8bba1afa04e0",
   "metadata": {},
   "source": [
    "# 1. Preprocessing\n",
    "\n",
    "EDA didn't highlight any serious issues with the data, except the potential artifact & values close to extreme. Nevertheless we can start preprocessing it and converting it into ML-friendly format.\n",
    "\n",
    "## Thoughts on Feature Representation\n",
    "We need to represent the sequences in a numerical fashion. This is the most important step in this project as inappropriate representation will give us inadequate results, even if we have a great model (thats the case for all ML project, bad data= bad predictions).\n",
    "\n",
    "Some ways to do it:\n",
    "* one-hot encoding - the simplest & most baseline method. Quite memory inefficient, no contextual information, and creates a very sparse matrix (21 aa * 461 spots * 260 samples) filled with 0/1. However it could be a good baseline for the project to see how other methods improve our workflow (it's a common approach for working with sequences too, as far as Im aware).\n",
    "* embeddings - more advanced than one-hot encoding, falls under word2vec umberalla; memory efficient and can be contextual (very contextual or just a little - depends how deep & complicated we want to go). We can train an embedding neural network from scratch using our data only or use a pre-trained embedding models/transformers such as ([bioBERT](https://academic.oup.com/bioinformatics/article/36/4/1234/5566506) or [representation embeddings](https://academic.oup.com/bioinformatics/article/34/15/2642/4951834) ). \n",
    "* SMILES - an 'extra' way but could be interesting to examine it. Molecules (including peptides) can be converted into SMILES and represented as graphs, which can be accepted by graph-like models (such as [chemprop](https://github.com/chemprop/chemprop)). For this we would likely need GPUs though (protein representations in SMILES will be massive)\n",
    "\n",
    "In every ML project, it is important to have a baseline to benchmark your progress - therefore I will initially start with one-hot encoding (even though I expect it to be the least effective), and then will progress to embeddings (maybe SMILES too if time permits but it's unlikely to be efficient in our case). \n",
    "\n",
    "It's important to note that we are working with highly dimensional data in this case as once we have embeddings/one-hot encodings, we will have way more features than samples, which is far from ideal scenario (usually we want to have 5*more samples than features). Although we can start working with highly dimensional data but as we progress with the project further, it will be crucial to reduce the number of features (can be done through feature importance filtering, feature engineering, compact embeddings - many approaches out there to be examined).  \n",
    "\n",
    "## Thoughts on train-test split\n",
    "\n",
    "We don't have huge amounts of data but it should suffice. To make a predictive model, we need to have a good train-test split (in ideal scenario we would have a separate, unseen data that we can use for testing, but thats not the case) and take some factors into account:\n",
    "\n",
    "* Distribution of train and test data should be the same - challenging to examine with sequence data, we can look into it more once we have suitable embeddings; we dont need to worry about distribution of input data when we have one-hot encoding (as we have categorical variables). For target data, we need to ensure same distribution through normalization & good split\n",
    "* Not-so randomized split - rather than randomly splitting the data for train-test, it is often better to do a grouped train-test split if we have enough information available. In this case, if we knew that variants come from originally different proteins, we could group them by 'parent' protein & divide them based on that (this way we would have an 'unseen' parent protein & its mutation in the test set to see if our model generalizes well & recognizes important patterns). **It would be beneficial to ask people who produced the data for more information / metadata so that we can do grouped split**.  As of now, we dont have that information so we will just do controlled & randomised train-test split \n",
    "\n",
    "We can do 80-20 train-test split (taking into account the mentioned factors), and conduct 5-fold CV on the train set to ensure good generelizability w/o information leakage. \n",
    "\n",
    "## Thoughts on standardisation\n",
    "We need to normalize our target feature (thermostability temp) as ML or statistical models might malfunction and not predict properly due to large differences/outliers. As the target feature is not normally distributed and there are no extreme outliers, we can use min-max scaling (z-score normalization could also work but min-max is safer for non-gaussian distribution). \n",
    "\n",
    "Normalization of the sequences is not very straightforward as its raw format is encoded as text. We don't need to normalize one-hot encoded data and dont need to normalize embedded data (model embedding should do it for us, however this could differ from model-to-model). Furthermore, as sequences are of the same lengths (thanks to '-' knockout/insertion symbol, which we treat as a feature) we don't need to do padding etc (unless we decide to work with SMILES, then we will need to remove '-' symbols)."
   ]
  },
  {
   "cell_type": "markdown",
   "id": "7a238b02-ea8d-4def-9b38-8824ff5497cf",
   "metadata": {},
   "source": [
    "## Feature Representation"
   ]
  },
  {
   "cell_type": "code",
   "execution_count": 10,
   "id": "9e5238b5-0719-40c0-a486-ef359c5de06d",
   "metadata": {},
   "outputs": [
    {
     "name": "stdout",
     "output_type": "stream",
     "text": [
      "Shape of one-hot encoded sequences (261, 466, 21)\n",
      "No. of samples  261\n",
      "No. of positions  466\n",
      "no. of unique amino acids  21\n"
     ]
    },
    {
     "data": {
      "text/plain": [
       "array([[[0., 1., 0., ..., 0., 0., 0.],\n",
       "        [1., 0., 0., ..., 0., 0., 0.],\n",
       "        [0., 0., 0., ..., 1., 0., 0.],\n",
       "        ...,\n",
       "        [0., 0., 0., ..., 0., 0., 0.],\n",
       "        [1., 0., 0., ..., 0., 0., 0.],\n",
       "        [0., 0., 0., ..., 0., 0., 0.]],\n",
       "\n",
       "       [[0., 0., 0., ..., 0., 0., 1.],\n",
       "        [0., 0., 0., ..., 0., 0., 0.],\n",
       "        [1., 0., 0., ..., 0., 0., 0.],\n",
       "        ...,\n",
       "        [0., 0., 0., ..., 0., 0., 0.],\n",
       "        [0., 0., 0., ..., 0., 0., 0.],\n",
       "        [0., 0., 0., ..., 0., 0., 0.]],\n",
       "\n",
       "       [[0., 0., 0., ..., 0., 0., 1.],\n",
       "        [0., 0., 0., ..., 0., 1., 0.],\n",
       "        [0., 0., 0., ..., 0., 0., 0.],\n",
       "        ...,\n",
       "        [0., 0., 0., ..., 0., 0., 0.],\n",
       "        [0., 0., 0., ..., 0., 1., 0.],\n",
       "        [0., 0., 0., ..., 0., 0., 0.]],\n",
       "\n",
       "       ...,\n",
       "\n",
       "       [[0., 0., 0., ..., 0., 0., 1.],\n",
       "        [0., 0., 0., ..., 0., 0., 0.],\n",
       "        [1., 0., 0., ..., 0., 0., 0.],\n",
       "        ...,\n",
       "        [0., 0., 0., ..., 0., 0., 0.],\n",
       "        [0., 0., 0., ..., 0., 0., 0.],\n",
       "        [0., 0., 0., ..., 0., 0., 0.]],\n",
       "\n",
       "       [[0., 0., 0., ..., 0., 0., 1.],\n",
       "        [0., 0., 0., ..., 0., 0., 0.],\n",
       "        [1., 0., 0., ..., 0., 0., 0.],\n",
       "        ...,\n",
       "        [0., 0., 0., ..., 0., 0., 0.],\n",
       "        [0., 0., 0., ..., 0., 0., 0.],\n",
       "        [0., 0., 0., ..., 0., 0., 0.]],\n",
       "\n",
       "       [[0., 0., 0., ..., 0., 0., 1.],\n",
       "        [0., 0., 0., ..., 0., 0., 0.],\n",
       "        [1., 0., 0., ..., 0., 0., 0.],\n",
       "        ...,\n",
       "        [0., 0., 0., ..., 0., 0., 0.],\n",
       "        [1., 0., 0., ..., 0., 0., 0.],\n",
       "        [0., 0., 0., ..., 0., 0., 0.]]])"
      ]
     },
     "execution_count": 10,
     "metadata": {},
     "output_type": "execute_result"
    }
   ],
   "source": [
    "all_aa = ''.join(thermostability_df.sequence)\n",
    "unique_aa= list(set(all_aa))\n",
    "\n",
    "one_hot_df = data.one_hot(unique_aa, thermostability_df.sequence.values)\n",
    "print('Shape of one-hot encoded sequences', one_hot_df.shape)\n",
    "print('No. of samples ', one_hot_df.shape[0]) \n",
    "print('No. of positions ', one_hot_df.shape[1]) \n",
    "print('no. of unique amino acids ', one_hot_df.shape[-1]) \n",
    "one_hot_df"
   ]
  },
  {
   "attachments": {},
   "cell_type": "markdown",
   "id": "cf560740",
   "metadata": {},
   "source": [
    "As we can see the data is very sparse & only contain 1 or 0, we can also see the high-dimensionality of the data - this is something we need to address later on but it can be a good baseline.\n",
    "\n",
    "We can examine MCA now "
   ]
  },
  {
   "cell_type": "code",
   "execution_count": 11,
   "id": "e111919a",
   "metadata": {},
   "outputs": [
    {
     "data": {
      "text/html": [
       "<div>\n",
       "<style scoped>\n",
       "    .dataframe tbody tr th:only-of-type {\n",
       "        vertical-align: middle;\n",
       "    }\n",
       "\n",
       "    .dataframe tbody tr th {\n",
       "        vertical-align: top;\n",
       "    }\n",
       "\n",
       "    .dataframe thead th {\n",
       "        text-align: right;\n",
       "    }\n",
       "</style>\n",
       "<table border=\"1\" class=\"dataframe\">\n",
       "  <thead>\n",
       "    <tr style=\"text-align: right;\">\n",
       "      <th></th>\n",
       "      <th>eigenvalue</th>\n",
       "      <th>% of variance</th>\n",
       "      <th>% of variance (cumulative)</th>\n",
       "    </tr>\n",
       "    <tr>\n",
       "      <th>component</th>\n",
       "      <th></th>\n",
       "      <th></th>\n",
       "      <th></th>\n",
       "    </tr>\n",
       "  </thead>\n",
       "  <tbody>\n",
       "    <tr>\n",
       "      <th>0</th>\n",
       "      <td>0.007</td>\n",
       "      <td>14.27%</td>\n",
       "      <td>14.27%</td>\n",
       "    </tr>\n",
       "    <tr>\n",
       "      <th>1</th>\n",
       "      <td>0.006</td>\n",
       "      <td>13.01%</td>\n",
       "      <td>27.29%</td>\n",
       "    </tr>\n",
       "    <tr>\n",
       "      <th>2</th>\n",
       "      <td>0.005</td>\n",
       "      <td>9.57%</td>\n",
       "      <td>36.85%</td>\n",
       "    </tr>\n",
       "    <tr>\n",
       "      <th>3</th>\n",
       "      <td>0.004</td>\n",
       "      <td>8.22%</td>\n",
       "      <td>45.07%</td>\n",
       "    </tr>\n",
       "    <tr>\n",
       "      <th>4</th>\n",
       "      <td>0.004</td>\n",
       "      <td>8.03%</td>\n",
       "      <td>53.10%</td>\n",
       "    </tr>\n",
       "    <tr>\n",
       "      <th>5</th>\n",
       "      <td>0.004</td>\n",
       "      <td>7.15%</td>\n",
       "      <td>60.25%</td>\n",
       "    </tr>\n",
       "    <tr>\n",
       "      <th>6</th>\n",
       "      <td>0.003</td>\n",
       "      <td>6.17%</td>\n",
       "      <td>66.43%</td>\n",
       "    </tr>\n",
       "    <tr>\n",
       "      <th>7</th>\n",
       "      <td>0.003</td>\n",
       "      <td>5.37%</td>\n",
       "      <td>71.80%</td>\n",
       "    </tr>\n",
       "    <tr>\n",
       "      <th>8</th>\n",
       "      <td>0.002</td>\n",
       "      <td>5.02%</td>\n",
       "      <td>76.81%</td>\n",
       "    </tr>\n",
       "    <tr>\n",
       "      <th>9</th>\n",
       "      <td>0.002</td>\n",
       "      <td>4.37%</td>\n",
       "      <td>81.18%</td>\n",
       "    </tr>\n",
       "    <tr>\n",
       "      <th>10</th>\n",
       "      <td>0.002</td>\n",
       "      <td>4.04%</td>\n",
       "      <td>85.22%</td>\n",
       "    </tr>\n",
       "    <tr>\n",
       "      <th>11</th>\n",
       "      <td>0.002</td>\n",
       "      <td>3.43%</td>\n",
       "      <td>88.66%</td>\n",
       "    </tr>\n",
       "    <tr>\n",
       "      <th>12</th>\n",
       "      <td>0.002</td>\n",
       "      <td>3.05%</td>\n",
       "      <td>91.70%</td>\n",
       "    </tr>\n",
       "    <tr>\n",
       "      <th>13</th>\n",
       "      <td>0.001</td>\n",
       "      <td>2.72%</td>\n",
       "      <td>94.42%</td>\n",
       "    </tr>\n",
       "    <tr>\n",
       "      <th>14</th>\n",
       "      <td>0.001</td>\n",
       "      <td>2.56%</td>\n",
       "      <td>96.98%</td>\n",
       "    </tr>\n",
       "    <tr>\n",
       "      <th>15</th>\n",
       "      <td>0.001</td>\n",
       "      <td>1.76%</td>\n",
       "      <td>98.74%</td>\n",
       "    </tr>\n",
       "    <tr>\n",
       "      <th>16</th>\n",
       "      <td>0.000</td>\n",
       "      <td>0.55%</td>\n",
       "      <td>99.30%</td>\n",
       "    </tr>\n",
       "    <tr>\n",
       "      <th>17</th>\n",
       "      <td>0.000</td>\n",
       "      <td>0.21%</td>\n",
       "      <td>99.51%</td>\n",
       "    </tr>\n",
       "    <tr>\n",
       "      <th>18</th>\n",
       "      <td>0.000</td>\n",
       "      <td>0.14%</td>\n",
       "      <td>99.65%</td>\n",
       "    </tr>\n",
       "    <tr>\n",
       "      <th>19</th>\n",
       "      <td>0.000</td>\n",
       "      <td>0.10%</td>\n",
       "      <td>99.75%</td>\n",
       "    </tr>\n",
       "  </tbody>\n",
       "</table>\n",
       "</div>"
      ],
      "text/plain": [
       "          eigenvalue % of variance % of variance (cumulative)\n",
       "component                                                    \n",
       "0              0.007        14.27%                     14.27%\n",
       "1              0.006        13.01%                     27.29%\n",
       "2              0.005         9.57%                     36.85%\n",
       "3              0.004         8.22%                     45.07%\n",
       "4              0.004         8.03%                     53.10%\n",
       "5              0.004         7.15%                     60.25%\n",
       "6              0.003         6.17%                     66.43%\n",
       "7              0.003         5.37%                     71.80%\n",
       "8              0.002         5.02%                     76.81%\n",
       "9              0.002         4.37%                     81.18%\n",
       "10             0.002         4.04%                     85.22%\n",
       "11             0.002         3.43%                     88.66%\n",
       "12             0.002         3.05%                     91.70%\n",
       "13             0.001         2.72%                     94.42%\n",
       "14             0.001         2.56%                     96.98%\n",
       "15             0.001         1.76%                     98.74%\n",
       "16             0.000         0.55%                     99.30%\n",
       "17             0.000         0.21%                     99.51%\n",
       "18             0.000         0.14%                     99.65%\n",
       "19             0.000         0.10%                     99.75%"
      ]
     },
     "execution_count": 11,
     "metadata": {},
     "output_type": "execute_result"
    }
   ],
   "source": [
    "#choosing 20 as an arbitrary number, will give us a good overall picture\n",
    "mca =prince.MCA(20)\n",
    "mca.fit(pd.DataFrame(one_hot_df.reshape(261,-1)))\n",
    "transformed = mca.transform(pd.DataFrame(one_hot_df.reshape(261,-1)))\n",
    "mca.eigenvalues_summary"
   ]
  },
  {
   "cell_type": "code",
   "execution_count": 12,
   "id": "919be8d0",
   "metadata": {},
   "outputs": [
    {
     "data": {
      "text/plain": [
       "[<matplotlib.lines.Line2D at 0x1920e6fa550>]"
      ]
     },
     "execution_count": 12,
     "metadata": {},
     "output_type": "execute_result"
    },
    {
     "data": {
      "image/png": "[encoded data removed]",
      "text/plain": [
       "<Figure size 640x480 with 1 Axes>"
      ]
     },
     "metadata": {},
     "output_type": "display_data"
    }
   ],
   "source": [
    "MC_values = np.arange(mca.n_components) + 1\n",
    "plt.plot(MC_values, mca.eigenvalues_, 'o-', linewidth=2, color='blue')"
   ]
  },
  {
   "attachments": {},
   "cell_type": "markdown",
   "id": "a145df0c",
   "metadata": {},
   "source": [
    "The first 10 eigenvalues / components explain 80% of data; we can also clearly see which components are the most important in terms of data variation. This is a good sign as it means that our features 'cluster' well into components which we could potentially use for modelling (it's not the best idea for regression, better applied to classification problems, however when we are dealing with highly dimensional data, it is one of potential solutions)."
   ]
  },
  {
   "cell_type": "code",
   "execution_count": 12,
   "id": "0dfdfec9-c4cc-42ad-a86d-cede420235e0",
   "metadata": {},
   "outputs": [
    {
     "name": "stdout",
     "output_type": "stream",
     "text": [
      "Shapiro test for normal distribution:  ShapiroResult(statistic=0.9151283680127257, pvalue=5.1477448453089945e-11)\n"
     ]
    },
    {
     "data": {
      "image/png": "[encoded data removed]",
      "text/plain": [
       "<Figure size 640x480 with 1 Axes>"
      ]
     },
     "metadata": {},
     "output_type": "display_data"
    },
    {
     "name": "stdout",
     "output_type": "stream",
     "text": [
      "Shapiro test for normal distribution:  ShapiroResult(statistic=0.9237091371277799, pvalue=2.5820175381220437e-10)\n"
     ]
    },
    {
     "data": {
      "image/png": "[encoded data removed]",
      "text/plain": [
       "<Figure size 640x480 with 1 Axes>"
      ]
     },
     "metadata": {},
     "output_type": "display_data"
    },
    {
     "name": "stdout",
     "output_type": "stream",
     "text": [
      "Shapiro test for normal distribution:  ShapiroResult(statistic=0.9730798634633724, pvalue=7.675232689249116e-05)\n"
     ]
    },
    {
     "data": {
      "image/png": "[encoded data removed]",
      "text/plain": [
       "<Figure size 640x480 with 1 Axes>"
      ]
     },
     "metadata": {},
     "output_type": "display_data"
    },
    {
     "name": "stdout",
     "output_type": "stream",
     "text": [
      "Shapiro test for normal distribution:  ShapiroResult(statistic=0.9880545679212877, pvalue=0.029318798286517022)\n"
     ]
    },
    {
     "data": {
      "image/png": "[encoded data removed]",
      "text/plain": [
       "<Figure size 640x480 with 1 Axes>"
      ]
     },
     "metadata": {},
     "output_type": "display_data"
    },
    {
     "name": "stdout",
     "output_type": "stream",
     "text": [
      "Shapiro test for normal distribution:  ShapiroResult(statistic=0.9859330339698489, pvalue=0.01154143797459123)\n"
     ]
    },
    {
     "data": {
      "image/png": "[encoded data removed]",
      "text/plain": [
       "<Figure size 640x480 with 1 Axes>"
      ]
     },
     "metadata": {},
     "output_type": "display_data"
    },
    {
     "name": "stdout",
     "output_type": "stream",
     "text": [
      "Shapiro test for normal distribution:  ShapiroResult(statistic=0.985900966785952, pvalue=0.011382096574144584)\n"
     ]
    },
    {
     "data": {
      "image/png": "[encoded data removed]",
      "text/plain": [
       "<Figure size 640x480 with 1 Axes>"
      ]
     },
     "metadata": {},
     "output_type": "display_data"
    },
    {
     "name": "stdout",
     "output_type": "stream",
     "text": [
      "Shapiro test for normal distribution:  ShapiroResult(statistic=0.9881705740822736, pvalue=0.03087073817187488)\n"
     ]
    },
    {
     "data": {
      "image/png": "[encoded data removed]",
      "text/plain": [
       "<Figure size 640x480 with 1 Axes>"
      ]
     },
     "metadata": {},
     "output_type": "display_data"
    },
    {
     "name": "stdout",
     "output_type": "stream",
     "text": [
      "Shapiro test for normal distribution:  ShapiroResult(statistic=0.9858591112025201, pvalue=0.011177527381831903)\n"
     ]
    },
    {
     "data": {
      "image/png": "[encoded data removed]",
      "text/plain": [
       "<Figure size 640x480 with 1 Axes>"
      ]
     },
     "metadata": {},
     "output_type": "display_data"
    },
    {
     "name": "stdout",
     "output_type": "stream",
     "text": [
      "Shapiro test for normal distribution:  ShapiroResult(statistic=0.9879711368718923, pvalue=0.02825198391235439)\n"
     ]
    },
    {
     "data": {
      "image/png": "[encoded data removed]",
      "text/plain": [
       "<Figure size 640x480 with 1 Axes>"
      ]
     },
     "metadata": {},
     "output_type": "display_data"
    },
    {
     "name": "stdout",
     "output_type": "stream",
     "text": [
      "Shapiro test for normal distribution:  ShapiroResult(statistic=0.9974802692171212, pvalue=0.9588436401861733)\n"
     ]
    },
    {
     "data": {
      "image/png": "[encoded data removed]",
      "text/plain": [
       "<Figure size 640x480 with 1 Axes>"
      ]
     },
     "metadata": {},
     "output_type": "display_data"
    },
    {
     "name": "stdout",
     "output_type": "stream",
     "text": [
      "Shapiro test for normal distribution:  ShapiroResult(statistic=0.9966661094859692, pvalue=0.8609552858693073)\n"
     ]
    },
    {
     "data": {
      "image/png": "[encoded data removed]",
      "text/plain": [
       "<Figure size 640x480 with 1 Axes>"
      ]
     },
     "metadata": {},
     "output_type": "display_data"
    },
    {
     "name": "stdout",
     "output_type": "stream",
     "text": [
      "Shapiro test for normal distribution:  ShapiroResult(statistic=0.9931227925732969, pvalue=0.2730623261084927)\n"
     ]
    },
    {
     "data": {
      "image/png": "[encoded data removed]",
      "text/plain": [
       "<Figure size 640x480 with 1 Axes>"
      ]
     },
     "metadata": {},
     "output_type": "display_data"
    },
    {
     "name": "stdout",
     "output_type": "stream",
     "text": [
      "Shapiro test for normal distribution:  ShapiroResult(statistic=0.9828916771536262, pvalue=0.0031818823304638737)\n"
     ]
    },
    {
     "data": {
      "image/png": "[encoded data removed]",
      "text/plain": [
       "<Figure size 640x480 with 1 Axes>"
      ]
     },
     "metadata": {},
     "output_type": "display_data"
    },
    {
     "name": "stdout",
     "output_type": "stream",
     "text": [
      "Shapiro test for normal distribution:  ShapiroResult(statistic=0.9046338194265131, pvalue=8.232259130318031e-12)\n"
     ]
    },
    {
     "data": {
      "image/png": "[encoded data removed]",
      "text/plain": [
       "<Figure size 640x480 with 1 Axes>"
      ]
     },
     "metadata": {},
     "output_type": "display_data"
    },
    {
     "name": "stdout",
     "output_type": "stream",
     "text": [
      "Shapiro test for normal distribution:  ShapiroResult(statistic=0.9276000656824541, pvalue=5.575904733155133e-10)\n"
     ]
    },
    {
     "data": {
      "image/png": "[encoded data removed]",
      "text/plain": [
       "<Figure size 640x480 with 1 Axes>"
      ]
     },
     "metadata": {},
     "output_type": "display_data"
    },
    {
     "name": "stdout",
     "output_type": "stream",
     "text": [
      "Shapiro test for normal distribution:  ShapiroResult(statistic=0.9279199947703959, pvalue=5.947198821980151e-10)\n"
     ]
    },
    {
     "data": {
      "image/png": "[encoded data removed]",
      "text/plain": [
       "<Figure size 640x480 with 1 Axes>"
      ]
     },
     "metadata": {},
     "output_type": "display_data"
    },
    {
     "name": "stdout",
     "output_type": "stream",
     "text": [
      "Shapiro test for normal distribution:  ShapiroResult(statistic=0.4584889287753512, pvalue=2.061842508757394e-27)\n"
     ]
    },
    {
     "data": {
      "image/png": "[encoded data removed]",
      "text/plain": [
       "<Figure size 640x480 with 1 Axes>"
      ]
     },
     "metadata": {},
     "output_type": "display_data"
    },
    {
     "name": "stdout",
     "output_type": "stream",
     "text": [
      "Shapiro test for normal distribution:  ShapiroResult(statistic=0.4484458049188814, pvalue=1.2927357361047284e-27)\n"
     ]
    },
    {
     "data": {
      "image/png": "[encoded data removed]",
      "text/plain": [
       "<Figure size 640x480 with 1 Axes>"
      ]
     },
     "metadata": {},
     "output_type": "display_data"
    },
    {
     "name": "stdout",
     "output_type": "stream",
     "text": [
      "Shapiro test for normal distribution:  ShapiroResult(statistic=0.4787112575149113, pvalue=5.3906826843538405e-27)\n"
     ]
    },
    {
     "data": {
      "image/png": "[encoded data removed]",
      "text/plain": [
       "<Figure size 640x480 with 1 Axes>"
      ]
     },
     "metadata": {},
     "output_type": "display_data"
    },
    {
     "name": "stdout",
     "output_type": "stream",
     "text": [
      "Shapiro test for normal distribution:  ShapiroResult(statistic=0.3406653474040423, pvalue=1.2621151481603933e-29)\n"
     ]
    },
    {
     "data": {
      "image/png": "[encoded data removed]",
      "text/plain": [
       "<Figure size 640x480 with 1 Axes>"
      ]
     },
     "metadata": {},
     "output_type": "display_data"
    }
   ],
   "source": [
    "for i in range(len(transformed.columns)): \n",
    "    print('Shapiro test for normal distribution: ', sp.stats.shapiro(transformed.iloc[:,i]))\n",
    "    plt.hist(transformed.iloc[:,i],bins=30)\n",
    "    plt.show()"
   ]
  },
  {
   "cell_type": "markdown",
   "id": "fc42faf2-fde5-4d5f-bc71-aa9d48a30802",
   "metadata": {},
   "source": [
    "We can see that the components are coming from different features, so they will require normalizaton if we decide to use them for modelling (again, not the best solution)"
   ]
  },
  {
   "attachments": {},
   "cell_type": "markdown",
   "id": "8a1d4cbb-6b0e-4b5c-956d-97a2eff69188",
   "metadata": {},
   "source": [
    "Now about embeddings:\n",
    "\n",
    "Embeddings of the sequence data should be much more efficient but also complex; there are several ways to obtain them, the ones I am considering are the following:\n",
    "* One would be to obtain them 'from scratch' (i.e. develop a neural network for embeddings, for example [CBOW](https://pytorch.org/tutorials/beginner/nlp/word_embeddings_tutorial.html) from word2vec umbrella) however it will require a lot of optimization to find the best solution (deciding on the tokens/k-mers is already a complicated area). However, it would be good for our purpose.\n",
    "  \n",
    "* Second one would be to use pre-trained transformers / embedding models that were trained on a large amount of sequence data. However, there are very many models out there - such as ([bioBERT](https://academic.oup.com/bioinformatics/article/36/4/1234/5566506) or [representation embeddings](https://academic.oup.com/bioinformatics/article/34/15/2642/4951834)). Choosing the right one would be also quite time-consuming (and it's also possible we wouldnt find the right one and would need to fine-tune it)\n",
    "\n",
    "Because of time constraints, I will use the fastest approach which is using a protBert from Hugging Face. It is a BERT transformer fine-tuned for protein sequences, reported in the [literature](https://doi.org/10.1101/2020.07.12.199554) and available on hugging face, so it should be relatively quick to implement"
   ]
  },
  {
   "cell_type": "code",
   "execution_count": 64,
   "id": "f0d0af61",
   "metadata": {},
   "outputs": [
    {
     "ename": "OSError",
     "evalue": "Rostlab/rot_bert is not a local folder and is not a valid model identifier listed on 'https://huggingface.co/models'\nIf this is a private repository, make sure to pass a token having permission to this repo either by logging in with `huggingface-cli login` or by passing `token=<your_token>`",
     "output_type": "error",
     "traceback": [
      "\u001b[1;31m---------------------------------------------------------------------------\u001b[0m",
      "\u001b[1;31mHTTPError\u001b[0m                                 Traceback (most recent call last)",
      "File \u001b[1;32mc:\\Users\\kjvf934\\repo\\ml_challenge\\.venv\\lib\\site-packages\\huggingface_hub\\utils\\_errors.py:304\u001b[0m, in \u001b[0;36mhf_raise_for_status\u001b[1;34m(response, endpoint_name)\u001b[0m\n\u001b[0;32m    303\u001b[0m \u001b[39mtry\u001b[39;00m:\n\u001b[1;32m--> 304\u001b[0m     response\u001b[39m.\u001b[39;49mraise_for_status()\n\u001b[0;32m    305\u001b[0m \u001b[39mexcept\u001b[39;00m HTTPError \u001b[39mas\u001b[39;00m e:\n",
      "File \u001b[1;32mc:\\Users\\kjvf934\\repo\\ml_challenge\\.venv\\lib\\site-packages\\requests\\models.py:1021\u001b[0m, in \u001b[0;36mResponse.raise_for_status\u001b[1;34m(self)\u001b[0m\n\u001b[0;32m   1020\u001b[0m \u001b[39mif\u001b[39;00m http_error_msg:\n\u001b[1;32m-> 1021\u001b[0m     \u001b[39mraise\u001b[39;00m HTTPError(http_error_msg, response\u001b[39m=\u001b[39m\u001b[39mself\u001b[39m)\n",
      "\u001b[1;31mHTTPError\u001b[0m: 401 Client Error: Unauthorized for url: https://huggingface.co/Rostlab/rot_bert/resolve/main/config.json",
      "\nThe above exception was the direct cause of the following exception:\n",
      "\u001b[1;31mRepositoryNotFoundError\u001b[0m                   Traceback (most recent call last)",
      "File \u001b[1;32mc:\\Users\\kjvf934\\repo\\ml_challenge\\.venv\\lib\\site-packages\\transformers\\utils\\hub.py:398\u001b[0m, in \u001b[0;36mcached_file\u001b[1;34m(path_or_repo_id, filename, cache_dir, force_download, resume_download, proxies, token, revision, local_files_only, subfolder, repo_type, user_agent, _raise_exceptions_for_gated_repo, _raise_exceptions_for_missing_entries, _raise_exceptions_for_connection_errors, _commit_hash, **deprecated_kwargs)\u001b[0m\n\u001b[0;32m    396\u001b[0m \u001b[39mtry\u001b[39;00m:\n\u001b[0;32m    397\u001b[0m     \u001b[39m# Load from URL or cache if already cached\u001b[39;00m\n\u001b[1;32m--> 398\u001b[0m     resolved_file \u001b[39m=\u001b[39m hf_hub_download(\n\u001b[0;32m    399\u001b[0m         path_or_repo_id,\n\u001b[0;32m    400\u001b[0m         filename,\n\u001b[0;32m    401\u001b[0m         subfolder\u001b[39m=\u001b[39;49m\u001b[39mNone\u001b[39;49;00m \u001b[39mif\u001b[39;49;00m \u001b[39mlen\u001b[39;49m(subfolder) \u001b[39m==\u001b[39;49m \u001b[39m0\u001b[39;49m \u001b[39melse\u001b[39;49;00m subfolder,\n\u001b[0;32m    402\u001b[0m         repo_type\u001b[39m=\u001b[39;49mrepo_type,\n\u001b[0;32m    403\u001b[0m         revision\u001b[39m=\u001b[39;49mrevision,\n\u001b[0;32m    404\u001b[0m         cache_dir\u001b[39m=\u001b[39;49mcache_dir,\n\u001b[0;32m    405\u001b[0m         user_agent\u001b[39m=\u001b[39;49muser_agent,\n\u001b[0;32m    406\u001b[0m         force_download\u001b[39m=\u001b[39;49mforce_download,\n\u001b[0;32m    407\u001b[0m         proxies\u001b[39m=\u001b[39;49mproxies,\n\u001b[0;32m    408\u001b[0m         resume_download\u001b[39m=\u001b[39;49mresume_download,\n\u001b[0;32m    409\u001b[0m         token\u001b[39m=\u001b[39;49mtoken,\n\u001b[0;32m    410\u001b[0m         local_files_only\u001b[39m=\u001b[39;49mlocal_files_only,\n\u001b[0;32m    411\u001b[0m     )\n\u001b[0;32m    412\u001b[0m \u001b[39mexcept\u001b[39;00m GatedRepoError \u001b[39mas\u001b[39;00m e:\n",
      "File \u001b[1;32mc:\\Users\\kjvf934\\repo\\ml_challenge\\.venv\\lib\\site-packages\\huggingface_hub\\utils\\_validators.py:119\u001b[0m, in \u001b[0;36mvalidate_hf_hub_args.<locals>._inner_fn\u001b[1;34m(*args, **kwargs)\u001b[0m\n\u001b[0;32m    117\u001b[0m     kwargs \u001b[39m=\u001b[39m smoothly_deprecate_use_auth_token(fn_name\u001b[39m=\u001b[39mfn\u001b[39m.\u001b[39m\u001b[39m__name__\u001b[39m, has_token\u001b[39m=\u001b[39mhas_token, kwargs\u001b[39m=\u001b[39mkwargs)\n\u001b[1;32m--> 119\u001b[0m \u001b[39mreturn\u001b[39;00m fn(\u001b[39m*\u001b[39margs, \u001b[39m*\u001b[39m\u001b[39m*\u001b[39mkwargs)\n",
      "File \u001b[1;32mc:\\Users\\kjvf934\\repo\\ml_challenge\\.venv\\lib\\site-packages\\huggingface_hub\\file_download.py:1403\u001b[0m, in \u001b[0;36mhf_hub_download\u001b[1;34m(repo_id, filename, subfolder, repo_type, revision, library_name, library_version, cache_dir, local_dir, local_dir_use_symlinks, user_agent, force_download, force_filename, proxies, etag_timeout, resume_download, token, local_files_only, headers, legacy_cache_layout, endpoint)\u001b[0m\n\u001b[0;32m   1401\u001b[0m \u001b[39melif\u001b[39;00m \u001b[39misinstance\u001b[39m(head_call_error, RepositoryNotFoundError) \u001b[39mor\u001b[39;00m \u001b[39misinstance\u001b[39m(head_call_error, GatedRepoError):\n\u001b[0;32m   1402\u001b[0m     \u001b[39m# Repo not found or gated => let's raise the actual error\u001b[39;00m\n\u001b[1;32m-> 1403\u001b[0m     \u001b[39mraise\u001b[39;00m head_call_error\n\u001b[0;32m   1404\u001b[0m \u001b[39melse\u001b[39;00m:\n\u001b[0;32m   1405\u001b[0m     \u001b[39m# Otherwise: most likely a connection issue or Hub downtime => let's warn the user\u001b[39;00m\n",
      "File \u001b[1;32mc:\\Users\\kjvf934\\repo\\ml_challenge\\.venv\\lib\\site-packages\\huggingface_hub\\file_download.py:1261\u001b[0m, in \u001b[0;36mhf_hub_download\u001b[1;34m(repo_id, filename, subfolder, repo_type, revision, library_name, library_version, cache_dir, local_dir, local_dir_use_symlinks, user_agent, force_download, force_filename, proxies, etag_timeout, resume_download, token, local_files_only, headers, legacy_cache_layout, endpoint)\u001b[0m\n\u001b[0;32m   1260\u001b[0m \u001b[39mtry\u001b[39;00m:\n\u001b[1;32m-> 1261\u001b[0m     metadata \u001b[39m=\u001b[39m get_hf_file_metadata(\n\u001b[0;32m   1262\u001b[0m         url\u001b[39m=\u001b[39;49murl,\n\u001b[0;32m   1263\u001b[0m         token\u001b[39m=\u001b[39;49mtoken,\n\u001b[0;32m   1264\u001b[0m         proxies\u001b[39m=\u001b[39;49mproxies,\n\u001b[0;32m   1265\u001b[0m         timeout\u001b[39m=\u001b[39;49metag_timeout,\n\u001b[0;32m   1266\u001b[0m         library_name\u001b[39m=\u001b[39;49mlibrary_name,\n\u001b[0;32m   1267\u001b[0m         library_version\u001b[39m=\u001b[39;49mlibrary_version,\n\u001b[0;32m   1268\u001b[0m         user_agent\u001b[39m=\u001b[39;49muser_agent,\n\u001b[0;32m   1269\u001b[0m     )\n\u001b[0;32m   1270\u001b[0m \u001b[39mexcept\u001b[39;00m EntryNotFoundError \u001b[39mas\u001b[39;00m http_error:\n\u001b[0;32m   1271\u001b[0m     \u001b[39m# Cache the non-existence of the file and raise\u001b[39;00m\n",
      "File \u001b[1;32mc:\\Users\\kjvf934\\repo\\ml_challenge\\.venv\\lib\\site-packages\\huggingface_hub\\utils\\_validators.py:119\u001b[0m, in \u001b[0;36mvalidate_hf_hub_args.<locals>._inner_fn\u001b[1;34m(*args, **kwargs)\u001b[0m\n\u001b[0;32m    117\u001b[0m     kwargs \u001b[39m=\u001b[39m smoothly_deprecate_use_auth_token(fn_name\u001b[39m=\u001b[39mfn\u001b[39m.\u001b[39m\u001b[39m__name__\u001b[39m, has_token\u001b[39m=\u001b[39mhas_token, kwargs\u001b[39m=\u001b[39mkwargs)\n\u001b[1;32m--> 119\u001b[0m \u001b[39mreturn\u001b[39;00m fn(\u001b[39m*\u001b[39margs, \u001b[39m*\u001b[39m\u001b[39m*\u001b[39mkwargs)\n",
      "File \u001b[1;32mc:\\Users\\kjvf934\\repo\\ml_challenge\\.venv\\lib\\site-packages\\huggingface_hub\\file_download.py:1674\u001b[0m, in \u001b[0;36mget_hf_file_metadata\u001b[1;34m(url, token, proxies, timeout, library_name, library_version, user_agent, headers)\u001b[0m\n\u001b[0;32m   1673\u001b[0m \u001b[39m# Retrieve metadata\u001b[39;00m\n\u001b[1;32m-> 1674\u001b[0m r \u001b[39m=\u001b[39m _request_wrapper(\n\u001b[0;32m   1675\u001b[0m     method\u001b[39m=\u001b[39;49m\u001b[39m\"\u001b[39;49m\u001b[39mHEAD\u001b[39;49m\u001b[39m\"\u001b[39;49m,\n\u001b[0;32m   1676\u001b[0m     url\u001b[39m=\u001b[39;49murl,\n\u001b[0;32m   1677\u001b[0m     headers\u001b[39m=\u001b[39;49mheaders,\n\u001b[0;32m   1678\u001b[0m     allow_redirects\u001b[39m=\u001b[39;49m\u001b[39mFalse\u001b[39;49;00m,\n\u001b[0;32m   1679\u001b[0m     follow_relative_redirects\u001b[39m=\u001b[39;49m\u001b[39mTrue\u001b[39;49;00m,\n\u001b[0;32m   1680\u001b[0m     proxies\u001b[39m=\u001b[39;49mproxies,\n\u001b[0;32m   1681\u001b[0m     timeout\u001b[39m=\u001b[39;49mtimeout,\n\u001b[0;32m   1682\u001b[0m )\n\u001b[0;32m   1683\u001b[0m hf_raise_for_status(r)\n",
      "File \u001b[1;32mc:\\Users\\kjvf934\\repo\\ml_challenge\\.venv\\lib\\site-packages\\huggingface_hub\\file_download.py:369\u001b[0m, in \u001b[0;36m_request_wrapper\u001b[1;34m(method, url, follow_relative_redirects, **params)\u001b[0m\n\u001b[0;32m    368\u001b[0m \u001b[39mif\u001b[39;00m follow_relative_redirects:\n\u001b[1;32m--> 369\u001b[0m     response \u001b[39m=\u001b[39m _request_wrapper(\n\u001b[0;32m    370\u001b[0m         method\u001b[39m=\u001b[39mmethod,\n\u001b[0;32m    371\u001b[0m         url\u001b[39m=\u001b[39murl,\n\u001b[0;32m    372\u001b[0m         follow_relative_redirects\u001b[39m=\u001b[39m\u001b[39mFalse\u001b[39;00m,\n\u001b[0;32m    373\u001b[0m         \u001b[39m*\u001b[39m\u001b[39m*\u001b[39mparams,\n\u001b[0;32m    374\u001b[0m     )\n\u001b[0;32m    376\u001b[0m     \u001b[39m# If redirection, we redirect only relative paths.\u001b[39;00m\n\u001b[0;32m    377\u001b[0m     \u001b[39m# This is useful in case of a renamed repository.\u001b[39;00m\n",
      "File \u001b[1;32mc:\\Users\\kjvf934\\repo\\ml_challenge\\.venv\\lib\\site-packages\\huggingface_hub\\file_download.py:393\u001b[0m, in \u001b[0;36m_request_wrapper\u001b[1;34m(method, url, follow_relative_redirects, **params)\u001b[0m\n\u001b[0;32m    392\u001b[0m response \u001b[39m=\u001b[39m get_session()\u001b[39m.\u001b[39mrequest(method\u001b[39m=\u001b[39mmethod, url\u001b[39m=\u001b[39murl, \u001b[39m*\u001b[39m\u001b[39m*\u001b[39mparams)\n\u001b[1;32m--> 393\u001b[0m hf_raise_for_status(response)\n\u001b[0;32m    394\u001b[0m \u001b[39mreturn\u001b[39;00m response\n",
      "File \u001b[1;32mc:\\Users\\kjvf934\\repo\\ml_challenge\\.venv\\lib\\site-packages\\huggingface_hub\\utils\\_errors.py:352\u001b[0m, in \u001b[0;36mhf_raise_for_status\u001b[1;34m(response, endpoint_name)\u001b[0m\n\u001b[0;32m    344\u001b[0m     message \u001b[39m=\u001b[39m (\n\u001b[0;32m    345\u001b[0m         \u001b[39mf\u001b[39m\u001b[39m\"\u001b[39m\u001b[39m{\u001b[39;00mresponse\u001b[39m.\u001b[39mstatus_code\u001b[39m}\u001b[39;00m\u001b[39m Client Error.\u001b[39m\u001b[39m\"\u001b[39m\n\u001b[0;32m    346\u001b[0m         \u001b[39m+\u001b[39m \u001b[39m\"\u001b[39m\u001b[39m\\n\u001b[39;00m\u001b[39m\\n\u001b[39;00m\u001b[39m\"\u001b[39m\n\u001b[1;32m   (...)\u001b[0m\n\u001b[0;32m    350\u001b[0m         \u001b[39m\"\u001b[39m\u001b[39m make sure you are authenticated.\u001b[39m\u001b[39m\"\u001b[39m\n\u001b[0;32m    351\u001b[0m     )\n\u001b[1;32m--> 352\u001b[0m     \u001b[39mraise\u001b[39;00m RepositoryNotFoundError(message, response) \u001b[39mfrom\u001b[39;00m \u001b[39me\u001b[39;00m\n\u001b[0;32m    354\u001b[0m \u001b[39melif\u001b[39;00m response\u001b[39m.\u001b[39mstatus_code \u001b[39m==\u001b[39m \u001b[39m400\u001b[39m:\n",
      "\u001b[1;31mRepositoryNotFoundError\u001b[0m: 401 Client Error. (Request ID: Root=1-6627ec44-59fb936942305a1c3dc2d2ef;c22a3be1-b3d3-4975-8b25-673ed6528904)\n\nRepository Not Found for url: https://huggingface.co/Rostlab/rot_bert/resolve/main/config.json.\nPlease make sure you specified the correct `repo_id` and `repo_type`.\nIf you are trying to access a private or gated repo, make sure you are authenticated.\nInvalid username or password.",
      "\nThe above exception was the direct cause of the following exception:\n",
      "\u001b[1;31mOSError\u001b[0m                                   Traceback (most recent call last)",
      "Cell \u001b[1;32mIn[64], line 5\u001b[0m\n\u001b[0;32m      1\u001b[0m \u001b[39m#importing a bert transformer for protein sequences \u001b[39;00m\n\u001b[0;32m      2\u001b[0m \u001b[39m#note that sometimes hugging face server might not work and you might\u001b[39;00m\n\u001b[0;32m      3\u001b[0m \u001b[39m#not be able to downlaod the bert - their severs were off when trying to reproduce the notebook, hence the cell is displaying an error\u001b[39;00m\n\u001b[0;32m      4\u001b[0m tokenizer \u001b[39m=\u001b[39m BertTokenizer\u001b[39m.\u001b[39mfrom_pretrained(\u001b[39m\"\u001b[39m\u001b[39mRostlab/prot_bert\u001b[39m\u001b[39m\"\u001b[39m) \n\u001b[1;32m----> 5\u001b[0m model \u001b[39m=\u001b[39m BertModel\u001b[39m.\u001b[39;49mfrom_pretrained(\u001b[39m\"\u001b[39;49m\u001b[39mRostlab/rot_bert\u001b[39;49m\u001b[39m\"\u001b[39;49m)\n\u001b[0;32m      7\u001b[0m \u001b[39m## We probably dont want - symbols when generating embeddings - cleaning required\u001b[39;00m\n\u001b[0;32m      8\u001b[0m thermostability_df_clean \u001b[39m=\u001b[39m utils\u001b[39m.\u001b[39mclean_artifacts(thermostability_df)\n",
      "File \u001b[1;32mc:\\Users\\kjvf934\\repo\\ml_challenge\\.venv\\lib\\site-packages\\transformers\\modeling_utils.py:3015\u001b[0m, in \u001b[0;36mPreTrainedModel.from_pretrained\u001b[1;34m(cls, pretrained_model_name_or_path, config, cache_dir, ignore_mismatched_sizes, force_download, local_files_only, token, revision, use_safetensors, *model_args, **kwargs)\u001b[0m\n\u001b[0;32m   3012\u001b[0m \u001b[39mif\u001b[39;00m commit_hash \u001b[39mis\u001b[39;00m \u001b[39mNone\u001b[39;00m:\n\u001b[0;32m   3013\u001b[0m     \u001b[39mif\u001b[39;00m \u001b[39mnot\u001b[39;00m \u001b[39misinstance\u001b[39m(config, PretrainedConfig):\n\u001b[0;32m   3014\u001b[0m         \u001b[39m# We make a call to the config file first (which may be absent) to get the commit hash as soon as possible\u001b[39;00m\n\u001b[1;32m-> 3015\u001b[0m         resolved_config_file \u001b[39m=\u001b[39m cached_file(\n\u001b[0;32m   3016\u001b[0m             pretrained_model_name_or_path,\n\u001b[0;32m   3017\u001b[0m             CONFIG_NAME,\n\u001b[0;32m   3018\u001b[0m             cache_dir\u001b[39m=\u001b[39;49mcache_dir,\n\u001b[0;32m   3019\u001b[0m             force_download\u001b[39m=\u001b[39;49mforce_download,\n\u001b[0;32m   3020\u001b[0m             resume_download\u001b[39m=\u001b[39;49mresume_download,\n\u001b[0;32m   3021\u001b[0m             proxies\u001b[39m=\u001b[39;49mproxies,\n\u001b[0;32m   3022\u001b[0m             local_files_only\u001b[39m=\u001b[39;49mlocal_files_only,\n\u001b[0;32m   3023\u001b[0m             token\u001b[39m=\u001b[39;49mtoken,\n\u001b[0;32m   3024\u001b[0m             revision\u001b[39m=\u001b[39;49mrevision,\n\u001b[0;32m   3025\u001b[0m             subfolder\u001b[39m=\u001b[39;49msubfolder,\n\u001b[0;32m   3026\u001b[0m             _raise_exceptions_for_gated_repo\u001b[39m=\u001b[39;49m\u001b[39mFalse\u001b[39;49;00m,\n\u001b[0;32m   3027\u001b[0m             _raise_exceptions_for_missing_entries\u001b[39m=\u001b[39;49m\u001b[39mFalse\u001b[39;49;00m,\n\u001b[0;32m   3028\u001b[0m             _raise_exceptions_for_connection_errors\u001b[39m=\u001b[39;49m\u001b[39mFalse\u001b[39;49;00m,\n\u001b[0;32m   3029\u001b[0m         )\n\u001b[0;32m   3030\u001b[0m         commit_hash \u001b[39m=\u001b[39m extract_commit_hash(resolved_config_file, commit_hash)\n\u001b[0;32m   3031\u001b[0m     \u001b[39melse\u001b[39;00m:\n",
      "File \u001b[1;32mc:\\Users\\kjvf934\\repo\\ml_challenge\\.venv\\lib\\site-packages\\transformers\\utils\\hub.py:421\u001b[0m, in \u001b[0;36mcached_file\u001b[1;34m(path_or_repo_id, filename, cache_dir, force_download, resume_download, proxies, token, revision, local_files_only, subfolder, repo_type, user_agent, _raise_exceptions_for_gated_repo, _raise_exceptions_for_missing_entries, _raise_exceptions_for_connection_errors, _commit_hash, **deprecated_kwargs)\u001b[0m\n\u001b[0;32m    416\u001b[0m     \u001b[39mraise\u001b[39;00m \u001b[39mEnvironmentError\u001b[39;00m(\n\u001b[0;32m    417\u001b[0m         \u001b[39m\"\u001b[39m\u001b[39mYou are trying to access a gated repo.\u001b[39m\u001b[39m\\n\u001b[39;00m\u001b[39mMake sure to have access to it at \u001b[39m\u001b[39m\"\u001b[39m\n\u001b[0;32m    418\u001b[0m         \u001b[39mf\u001b[39m\u001b[39m\"\u001b[39m\u001b[39mhttps://huggingface.co/\u001b[39m\u001b[39m{\u001b[39;00mpath_or_repo_id\u001b[39m}\u001b[39;00m\u001b[39m.\u001b[39m\u001b[39m\\n\u001b[39;00m\u001b[39m{\u001b[39;00m\u001b[39mstr\u001b[39m(e)\u001b[39m}\u001b[39;00m\u001b[39m\"\u001b[39m\n\u001b[0;32m    419\u001b[0m     ) \u001b[39mfrom\u001b[39;00m \u001b[39me\u001b[39;00m\n\u001b[0;32m    420\u001b[0m \u001b[39mexcept\u001b[39;00m RepositoryNotFoundError \u001b[39mas\u001b[39;00m e:\n\u001b[1;32m--> 421\u001b[0m     \u001b[39mraise\u001b[39;00m \u001b[39mEnvironmentError\u001b[39;00m(\n\u001b[0;32m    422\u001b[0m         \u001b[39mf\u001b[39m\u001b[39m\"\u001b[39m\u001b[39m{\u001b[39;00mpath_or_repo_id\u001b[39m}\u001b[39;00m\u001b[39m is not a local folder and is not a valid model identifier \u001b[39m\u001b[39m\"\u001b[39m\n\u001b[0;32m    423\u001b[0m         \u001b[39m\"\u001b[39m\u001b[39mlisted on \u001b[39m\u001b[39m'\u001b[39m\u001b[39mhttps://huggingface.co/models\u001b[39m\u001b[39m'\u001b[39m\u001b[39m\\n\u001b[39;00m\u001b[39mIf this is a private repository, make sure to pass a token \u001b[39m\u001b[39m\"\u001b[39m\n\u001b[0;32m    424\u001b[0m         \u001b[39m\"\u001b[39m\u001b[39mhaving permission to this repo either by logging in with `huggingface-cli login` or by passing \u001b[39m\u001b[39m\"\u001b[39m\n\u001b[0;32m    425\u001b[0m         \u001b[39m\"\u001b[39m\u001b[39m`token=<your_token>`\u001b[39m\u001b[39m\"\u001b[39m\n\u001b[0;32m    426\u001b[0m     ) \u001b[39mfrom\u001b[39;00m \u001b[39me\u001b[39;00m\n\u001b[0;32m    427\u001b[0m \u001b[39mexcept\u001b[39;00m RevisionNotFoundError \u001b[39mas\u001b[39;00m e:\n\u001b[0;32m    428\u001b[0m     \u001b[39mraise\u001b[39;00m \u001b[39mEnvironmentError\u001b[39;00m(\n\u001b[0;32m    429\u001b[0m         \u001b[39mf\u001b[39m\u001b[39m\"\u001b[39m\u001b[39m{\u001b[39;00mrevision\u001b[39m}\u001b[39;00m\u001b[39m is not a valid git identifier (branch name, tag name or commit id) that exists \u001b[39m\u001b[39m\"\u001b[39m\n\u001b[0;32m    430\u001b[0m         \u001b[39m\"\u001b[39m\u001b[39mfor this model name. Check the model page at \u001b[39m\u001b[39m\"\u001b[39m\n\u001b[0;32m    431\u001b[0m         \u001b[39mf\u001b[39m\u001b[39m\"\u001b[39m\u001b[39m'\u001b[39m\u001b[39mhttps://huggingface.co/\u001b[39m\u001b[39m{\u001b[39;00mpath_or_repo_id\u001b[39m}\u001b[39;00m\u001b[39m'\u001b[39m\u001b[39m for available revisions.\u001b[39m\u001b[39m\"\u001b[39m\n\u001b[0;32m    432\u001b[0m     ) \u001b[39mfrom\u001b[39;00m \u001b[39me\u001b[39;00m\n",
      "\u001b[1;31mOSError\u001b[0m: Rostlab/rot_bert is not a local folder and is not a valid model identifier listed on 'https://huggingface.co/models'\nIf this is a private repository, make sure to pass a token having permission to this repo either by logging in with `huggingface-cli login` or by passing `token=<your_token>`"
     ]
    }
   ],
   "source": [
    "#importing a bert transformer for protein sequences \n",
    "#note that sometimes hugging face server might not work and you might\n",
    "#not be able to downlaod the bert - their severs were off when trying to reproduce the notebook, hence the cell is displaying an error\n",
    "#(it's not such a big deal as the embeddings didn't work out in the first place, however I could download the model)\n",
    "tokenizer = BertTokenizer.from_pretrained(\"Rostlab/prot_bert\") \n",
    "model = BertModel.from_pretrained(\"Rostlab/rot_bert\")\n",
    "\n",
    "## We probably dont want - symbols when generating embeddings - cleaning required\n",
    "thermostability_df_clean = utils.clean_artifacts(thermostability_df)\n",
    "embedded_seq = data.embed_seq_wrapper(thermostability_df_clean.sequence, model, tokenizer)\n",
    "\n",
    "print('Shape of embeddings: ', embedded_seq.shape)\n",
    "print('Token no: ', embedded_seq.shape[1])\n",
    "print('Embeddings shape: ', embedded_seq.shape[2])\n",
    "embedded_seq"
   ]
  },
  {
   "attachments": {},
   "cell_type": "markdown",
   "id": "03e21bf7",
   "metadata": {},
   "source": [
    "I have decided to use the default settings for tokenization & modelling; 3 tokens seems a bit small for sequences that are 461 aa long, but maybe it's enoguh (I don't have enough experience with sequence data to say). However it seems like all embeddings are the same so something is definitely wrong.\n",
    "\n"
   ]
  },
  {
   "cell_type": "code",
   "execution_count": 75,
   "id": "0cc792ed-f27a-45d6-b6ba-4087a42517a7",
   "metadata": {},
   "outputs": [
    {
     "data": {
      "text/plain": [
       "True"
      ]
     },
     "execution_count": 75,
     "metadata": {},
     "output_type": "execute_result"
    }
   ],
   "source": [
    "(embedded_seq[1]==embedded_seq[0]).all()"
   ]
  },
  {
   "cell_type": "markdown",
   "id": "81732767-acb1-4100-8821-cb9b933da27e",
   "metadata": {},
   "source": [
    "My intuition tells me there is something wrong with the tokenizer (as three tokens is probably not enough to capture 461 aa long sequences). If time permits, I will try troubleshooting/customizing tokenizer so it captures more data. \n",
    "\n",
    "It's worth noting that it **could be beneficial to consult the tokenization/representation with the stakeholders - while we can follow our intuition and see what works well, tokenization is the most powerful when combined with domain knowledge**. For example if we expect certain patterns that are 3 aa long (let's say LKL) to be the factor for high thermostability, we should set our tokens to be 3-symbols long with stride=0. "
   ]
  },
  {
   "cell_type": "markdown",
   "id": "21b54c7c-4d85-4481-adb5-76e936f1a3ff",
   "metadata": {},
   "source": [
    "## Train-test-split & Normalization"
   ]
  },
  {
   "cell_type": "markdown",
   "id": "c901cd0f-2f99-4695-ae0d-8a86be149df3",
   "metadata": {},
   "source": [
    "We will go by default 80:20 train-test ratio (train will be further divded for cross-validation later on). As mentioned before, we should make sure the train and test come from the same distribution, so we should control our split (i.e. run some tests later). We also need to normalize our data - we scale the MinMaxScaler based on the train target and then apply it to the test target"
   ]
  },
  {
   "cell_type": "code",
   "execution_count": 18,
   "id": "9d6488c5-27e4-4d81-8b13-fa1657b16ea8",
   "metadata": {},
   "outputs": [
    {
     "name": "stderr",
     "output_type": "stream",
     "text": [
      "c:\\Users\\kjvf934\\repo\\ml_challenge\\.venv\\lib\\site-packages\\sklearn\\base.py:493: UserWarning: X does not have valid feature names, but MinMaxScaler was fitted with feature names\n",
      "  warnings.warn(\n",
      "c:\\Users\\kjvf934\\repo\\ml_challenge\\.venv\\lib\\site-packages\\sklearn\\base.py:493: UserWarning: X does not have valid feature names, but MinMaxScaler was fitted with feature names\n",
      "  warnings.warn(\n"
     ]
    }
   ],
   "source": [
    "#split\n",
    "y = thermostability_df[['thermostability']]\n",
    "X = one_hot_df\n",
    "\n",
    "x_train, x_test, y_train, y_test = train_test_split(X,y, test_size=0.2, random_state=42)\n",
    "\n",
    "#scale\n",
    "scaler = MinMaxScaler()\n",
    "scaler.fit(y_train)\n",
    "y_train_norm = scaler.transform(y_train.values)\n",
    "y_test_norm = scaler.transform(y_test.values)"
   ]
  },
  {
   "cell_type": "code",
   "execution_count": 19,
   "id": "491f0b51-659b-4394-8f54-6cb9cedf6da2",
   "metadata": {},
   "outputs": [
    {
     "name": "stdout",
     "output_type": "stream",
     "text": [
      "KstestResult(statistic=array([0.10585994]), pvalue=array([0.68522612]), statistic_location=array([0.36619718]), statistic_sign=array([-1.]))\n"
     ]
    },
    {
     "data": {
      "image/png": "[encoded data removed]",
      "text/plain": [
       "<Figure size 640x480 with 2 Axes>"
      ]
     },
     "metadata": {},
     "output_type": "display_data"
    }
   ],
   "source": [
    "#check distributionf of y, if they come from the same distribution post-normalization\n",
    "print(sp.stats.kstest(y_train_norm, y_test_norm))\n",
    "\n",
    "# visualisations\n",
    "plt.subplot(1,2,1)\n",
    "plt.suptitle('Distribution of thermostability')\n",
    "plt.ylabel('thermostability [¡C]')\n",
    "plt.xlabel('Distribution')\n",
    "plt.violinplot(y_train_norm,)\n",
    "plt.violinplot(y_test_norm)\n",
    "plt.subplot(1,2,2)\n",
    "plt.hist(y_train_norm,bins=30, label='Train')\n",
    "plt.hist(y_test_norm,bins=30, label='Test')\n",
    "plt.xlabel('thermostability [¡C]')\n",
    "plt.ylabel('Count')\n",
    "plt.legend()\n",
    "plt.tight_layout()\n"
   ]
  },
  {
   "attachments": {},
   "cell_type": "markdown",
   "id": "ef7aec4c",
   "metadata": {},
   "source": [
    "According to the KS test, the target for test & train come from the same distribution, we should also check if the same case is for input (not really possible when one-hot encoded, once we have good embeddings we can do it)."
   ]
  },
  {
   "cell_type": "markdown",
   "id": "e656a6a1-36d2-4f96-ad36-4214739918b3",
   "metadata": {},
   "source": [
    "# 3. Data Modelling"
   ]
  },
  {
   "attachments": {},
   "cell_type": "markdown",
   "id": "3359a4e9",
   "metadata": {},
   "source": [
    "When modelling the data, it is important to have a baseline/simple reference model for a few reasons:\n",
    "* To track our progress from baseline to more complex models (helps with seeing whether we are actually headed in the right direction)\n",
    "* Helps with benchmarking other models\n",
    "* If we work with this type of data & problem for the first time, maybe simple linear models are enough and there is no need for complex neural networks? We shouldn't implement complex & computationally expensive models if simple models & more explainable have the same performance (which is often the case - as pointed out [here](https://www.nature.com/articles/s41598-023-28421-6))\n",
    "\n",
    "Therefore, I will first train a Linear regression to check its performance against 1) One-hot encoded data 2) Embedded Data (if time permits). I will first run it w/o cross-validation to see how it performs on its own, then cross-validation to see how it generalizes.\n",
    "\n",
    "I will use MSE as a main metric of choice ('optimizing' metric, typical choice for regression & can be also used as loss in neural networks). This is my own choice however it is always **good to consult such decisions with stakeholders (especially when dealing with classification problems)**\n",
    "\n",
    "Note that because we normalized the target variables, the predictions are also going to be normalized; to assess the performance I will compare the scaled predictions with scaled target variable however for inference & production it is crucial to unscale the target variables"
   ]
  },
  {
   "cell_type": "code",
   "execution_count": 20,
   "id": "b0b4156a-437e-4afd-a041-cb91cebfb4ff",
   "metadata": {},
   "outputs": [
    {
     "name": "stdout",
     "output_type": "stream",
     "text": [
      "Performance on the train set (sanity & overfit check) 0.006316082787730564\n",
      "Performance on the train set (sanity & overfit check), r2_score 0.8440482137023023\n"
     ]
    }
   ],
   "source": [
    "#create models dir\n",
    "os.system('mkdir models')\n",
    "\n",
    "#First check how the model is doing w/o validation (if it works)\n",
    "from sklearn.linear_model import LinearRegression\n",
    "from sklearn.metrics import mean_squared_error, r2_score\n",
    "\n",
    "#instantiate\n",
    "reg = LinearRegression()\n",
    "\n",
    "#train - note that we need to reshape as sklearn only accepts two dimensional arrays\n",
    "reg.fit(x_train.reshape(208,-1), y_train_norm.reshape(-1,1))\n",
    "\n",
    "#save\n",
    "import pickle\n",
    "with open('models/baseline_regression.pkl', 'wb') as file:\n",
    "    pickle.dump(reg, file)\n",
    "\n",
    "#test on the train set - see if overfitting\n",
    "y_pred_norm = reg.predict(x_train.reshape(x_train.shape[0],-1))\n",
    "print('Performance on the train set (sanity & overfit check)', mean_squared_error(y_train_norm, y_pred_norm))\n",
    "print('Performance on the train set (sanity & overfit check), r2_score',r2_score(y_train_norm, y_pred_norm))"
   ]
  },
  {
   "attachments": {},
   "cell_type": "markdown",
   "id": "4658b9b9",
   "metadata": {},
   "source": [
    "While model's performance on the train set is not very informative or indicative of model performance, it shows that model was successfuly fit & data can be modelled. Let's explore cross-validation now to see how well it actually performs"
   ]
  },
  {
   "cell_type": "code",
   "execution_count": 21,
   "id": "9f71e7a4",
   "metadata": {},
   "outputs": [
    {
     "name": "stdout",
     "output_type": "stream",
     "text": [
      "0\n",
      "MSE:  8.505851250054329e+21\n",
      "R2:  -1.7548089693316034e+23\n",
      "1\n",
      "MSE:  2.0902691703076744e+21\n",
      "R2:  -7.770548323280202e+22\n",
      "2\n",
      "MSE:  4.934044692717546e+19\n",
      "R2:  -9.416943724932627e+20\n",
      "3\n",
      "MSE:  9.053133412908799e+20\n",
      "R2:  -3.1797950791943146e+22\n",
      "4\n",
      "MSE:  2.5674715949566098e+22\n",
      "R2:  -6.003003761551459e+23\n",
      "[8.505851250054329e+21, 2.0902691703076744e+21, 4.934044692717546e+19, 9.053133412908799e+20, 2.5674715949566098e+22]\n"
     ]
    }
   ],
   "source": [
    "torch.manual_seed(0)\n",
    "\n",
    "reg=LinearRegression()\n",
    "predictions, real = train.train_sklearn_with_cv(reg,x_train.reshape(208,-1), y_train_norm.reshape(-1,1), cv=5)"
   ]
  },
  {
   "attachments": {},
   "cell_type": "markdown",
   "id": "a1d70e2e",
   "metadata": {},
   "source": [
    "This is why cross validation is quite important - without using test set, we can quickly see that something is wrong as good results are close to 0 (or 1 in case of R2). This might mean that data is very difficult to model for linear regression (could be the case for non-linear models) or there is something wrong with the data. Let's do some quick error analysis"
   ]
  },
  {
   "cell_type": "code",
   "execution_count": 23,
   "id": "1e3fe446",
   "metadata": {},
   "outputs": [
    {
     "name": "stdout",
     "output_type": "stream",
     "text": [
      "Pred Value:  [0.5078125] Real Value:  [0.46830986]\n",
      "Pred Value:  [0.09863281] Real Value:  [0.24647887]\n",
      "Pred Value:  [0.17285156] Real Value:  [0.42253521]\n",
      "Pred Value:  [0.94921875] Real Value:  [1.]\n",
      "Pred Value:  [0.68847656] Real Value:  [0.64788732]\n",
      "Pred Value:  [0.67871094] Real Value:  [0.71478873]\n",
      "Pred Value:  [0.55664062] Real Value:  [0.51056338]\n",
      "Pred Value:  [0.65039062] Real Value:  [0.76760563]\n",
      "Pred Value:  [0.45117188] Real Value:  [0.48943662]\n",
      "Pred Value:  [-9.06073656e+10] Real Value:  [0.1056338]\n",
      "Pred Value:  [0.29003906] Real Value:  [0.44014085]\n",
      "Pred Value:  [0.60058594] Real Value:  [0.58098592]\n",
      "Pred Value:  [0.56933594] Real Value:  [0.73591549]\n",
      "Pred Value:  [0.38964844] Real Value:  [0.46126761]\n",
      "Pred Value:  [0.32910156] Real Value:  [0.24295775]\n"
     ]
    }
   ],
   "source": [
    "#check predictions for the first fold\n",
    "\n",
    "for i in range(15):\n",
    "    print('Pred Value: ',predictions[0][i], 'Real Value: ', real[0][i])"
   ]
  },
  {
   "attachments": {},
   "cell_type": "markdown",
   "id": "842a80c4",
   "metadata": {},
   "source": [
    "From the quick look at the predictions, it seems like majority of predictions look OK but there are some which are strange (i.e. [-9.06073656e+10] which is massively exaggerated - it's not possible that a protein would have such low thermostability).\n",
    "\n",
    "If it's due to an outlier, using generalized linear regression would solve this issue pretty easily - let's quickly try Ridge Regression"
   ]
  },
  {
   "cell_type": "code",
   "execution_count": 24,
   "id": "11d1beae-41dc-47a2-adfd-80cf2e9fcf78",
   "metadata": {},
   "outputs": [
    {
     "name": "stdout",
     "output_type": "stream",
     "text": [
      "0\n",
      "MSE:  0.011965500551456102\n",
      "R2:  0.753144428782442\n",
      "1\n",
      "MSE:  0.00900050735037302\n",
      "R2:  0.6654073155094296\n",
      "2\n",
      "MSE:  0.011881321610923697\n",
      "R2:  0.7732372851161377\n",
      "3\n",
      "MSE:  0.009330304561376852\n",
      "R2:  0.6722852168582168\n",
      "4\n",
      "MSE:  0.006924416429773857\n",
      "R2:  0.8381002619225328\n",
      "[0.011965500551456102, 0.00900050735037302, 0.011881321610923697, 0.009330304561376852, 0.006924416429773857]\n"
     ]
    }
   ],
   "source": [
    "torch.manual_seed(0)\n",
    "\n",
    "reg=Ridge()\n",
    "predictions, real = train.train_sklearn_with_cv(reg,x_train.reshape(208,-1), y_train_norm.reshape(-1,1), cv=5)"
   ]
  },
  {
   "cell_type": "code",
   "execution_count": 25,
   "id": "21ae4da6-676c-4062-bdc4-4b0cf8c3bc7e",
   "metadata": {},
   "outputs": [
    {
     "name": "stdout",
     "output_type": "stream",
     "text": [
      "Pred Value:  [0.51567956] Real Value:  [0.46830986]\n",
      "Pred Value:  [0.15241276] Real Value:  [0.24647887]\n",
      "Pred Value:  [0.17774436] Real Value:  [0.42253521]\n",
      "Pred Value:  [0.93569067] Real Value:  [1.]\n",
      "Pred Value:  [0.7008131] Real Value:  [0.64788732]\n",
      "Pred Value:  [0.67663606] Real Value:  [0.71478873]\n",
      "Pred Value:  [0.55686855] Real Value:  [0.51056338]\n",
      "Pred Value:  [0.67311853] Real Value:  [0.76760563]\n",
      "Pred Value:  [0.48474864] Real Value:  [0.48943662]\n",
      "Pred Value:  [0.40249675] Real Value:  [0.1056338]\n",
      "Pred Value:  [0.36220377] Real Value:  [0.44014085]\n",
      "Pred Value:  [0.58417367] Real Value:  [0.58098592]\n",
      "Pred Value:  [0.55677048] Real Value:  [0.73591549]\n",
      "Pred Value:  [0.43877466] Real Value:  [0.46126761]\n",
      "Pred Value:  [0.34981839] Real Value:  [0.24295775]\n"
     ]
    }
   ],
   "source": [
    "#check predictions for the first fold\n",
    "for i in range(15):\n",
    "    print('Pred Value: ',predictions[0][i], 'Real Value: ', real[0][i])"
   ]
  },
  {
   "cell_type": "markdown",
   "id": "64c9b1b1-552c-45f0-9f47-36ab469bd161",
   "metadata": {},
   "source": [
    "Ridge Regression does a really good job in the cross validation, lets check how it performs on the test set "
   ]
  },
  {
   "cell_type": "code",
   "execution_count": 26,
   "id": "0aad2968-4220-461f-a941-2e88dacd5c71",
   "metadata": {},
   "outputs": [
    {
     "name": "stdout",
     "output_type": "stream",
     "text": [
      "Performance on the test set (mse) 0.008780365048569983\n",
      "Performance on the test set (r2) 0.824693489716469\n",
      "Pred Value:  0.4150037380722108 Real Value:  0.39084507042253525\n"
     ]
    }
   ],
   "source": [
    "predictions =reg.predict(x_test.reshape(x_test.shape[0],-1))\n",
    "real = y_test_norm.reshape(-1,1)\n",
    "\n",
    "print('Performance on the test set (mse)', mean_squared_error(real, predictions))\n",
    "print('Performance on the test set (r2)', r2_score(real, predictions))\n",
    "#check predictions\n",
    "for i in range(len(predictions[0])):\n",
    "    print('Pred Value: ',predictions[0][i], 'Real Value: ', real[0][i])"
   ]
  },
  {
   "cell_type": "code",
   "execution_count": 27,
   "id": "58e9deb6-ea6f-458d-b14d-1de85217876d",
   "metadata": {},
   "outputs": [
    {
     "name": "stdout",
     "output_type": "stream",
     "text": [
      "Pred Value:  [0.41500374] Real Value:  [0.39084507]\n",
      "Pred Value:  [0.53248672] Real Value:  [0.41197183]\n",
      "Pred Value:  [0.47199435] Real Value:  [0.35211268]\n",
      "Pred Value:  [0.50731051] Real Value:  [0.47535211]\n",
      "Pred Value:  [0.41359734] Real Value:  [0.37676056]\n",
      "Pred Value:  [0.654739] Real Value:  [0.66901408]\n",
      "Pred Value:  [0.309175] Real Value:  [0.28873239]\n",
      "Pred Value:  [0.29636348] Real Value:  [0.28169014]\n",
      "Pred Value:  [0.66294556] Real Value:  [0.65492958]\n",
      "Pred Value:  [0.5139411] Real Value:  [0.48943662]\n",
      "Pred Value:  [0.44354885] Real Value:  [0.47183099]\n",
      "Pred Value:  [0.60613364] Real Value:  [0.55633803]\n",
      "Pred Value:  [0.80926681] Real Value:  [0.92957746]\n",
      "Pred Value:  [0.88187767] Real Value:  [0.96830986]\n",
      "Pred Value:  [0.74400671] Real Value:  [0.77464789]\n"
     ]
    }
   ],
   "source": [
    "#check predictions\n",
    "for i in range(15):\n",
    "    print('Pred Value: ',predictions[i], 'Real Value: ', real[i])"
   ]
  },
  {
   "cell_type": "markdown",
   "id": "b463eace-6ce8-4b8b-8254-e24550acd165",
   "metadata": {},
   "source": [
    "The model seems to have very good performance and seems to generalize pretty well. There is no extreme predicted values being present - this is quite promising in terms of performance but also indicates there can be something wrong with the data (we can try removing the 'borderline' outliers and examine the models again as the next step). Lets explore another type of model which should be unaffected by the outliers - neural networks"
   ]
  },
  {
   "cell_type": "markdown",
   "id": "086fd1b3-92b5-4692-8e1b-3aa58958658d",
   "metadata": {},
   "source": [
    "## Neural Network"
   ]
  },
  {
   "attachments": {},
   "cell_type": "markdown",
   "id": "3550d77c",
   "metadata": {},
   "source": [
    "Now that we have a baseline model & generalized Ridge Regression, we can train more complex models to see if they also perform badly for certain samples etc or if their performance overall is much better than Ridge. \n",
    "\n",
    "If I had more time, I would explore some classical ML models like random forests, SVM, or even boosting trees (XGBoost) however in this case I will train neural network with pytorch framework, as they tend to work very well with non-linear problems (which can be the case here) or sparse data (which is the case for one-hot encoding).\n",
    "\n",
    "As before, I will first train the it on its own (with manually chosen validation data, required for any neural network) to see how it performs, then will use cross-validation on the full train set to see how well it generalizes"
   ]
  },
  {
   "cell_type": "code",
   "execution_count": 53,
   "id": "0c752c57",
   "metadata": {},
   "outputs": [
    {
     "name": "stderr",
     "output_type": "stream",
     "text": [
      "c:\\Users\\kjvf934\\repo\\ml_challenge\\.venv\\lib\\site-packages\\sklearn\\base.py:493: UserWarning: X does not have valid feature names, but MinMaxScaler was fitted with feature names\n",
      "  warnings.warn(\n",
      "c:\\Users\\kjvf934\\repo\\ml_challenge\\.venv\\lib\\site-packages\\sklearn\\base.py:493: UserWarning: X does not have valid feature names, but MinMaxScaler was fitted with feature names\n",
      "  warnings.warn(\n"
     ]
    }
   ],
   "source": [
    "#divide train into val & train subsets \n",
    "x_train_v2, x_val, y_train_v2, y_val = train_test_split(x_train,y_train, test_size=0.2, random_state=42)\n",
    "\n",
    "#scale\n",
    "scaler = MinMaxScaler()\n",
    "scaler.fit(y_train_v2)\n",
    "y_train_v2_norm = scaler.transform(y_train_v2.values)\n",
    "y_val_norm = scaler.transform(y_val.values)\n",
    "\n",
    "#set up datasets and dataloader\n",
    "train_dataset = data.SequenceDataset(x_train_v2, y_train_v2_norm)\n",
    "val_dataset = data.SequenceDataset(x_val, y_val_norm)\n",
    "\n",
    "#we are using relatively large batch size to get a 'full picture' of the data\n",
    "#it will be worth revisiting later on & optimizing it to get the best model performance\n",
    "train_dataloader = DataLoader(train_dataset, batch_size=64)\n",
    "val_dataloader = DataLoader(val_dataset, batch_size=8)\n"
   ]
  },
  {
   "cell_type": "code",
   "execution_count": 54,
   "id": "cd57cadb-c462-470c-a084-dd8ee761e1cd",
   "metadata": {},
   "outputs": [
    {
     "name": "stdout",
     "output_type": "stream",
     "text": [
      "1\n"
     ]
    },
    {
     "data": {
      "application/vnd.jupyter.widget-view+json": {
       "model_id": "ae515343530e4d0bae543f13e40914c9",
       "version_major": 2,
       "version_minor": 0
      },
      "text/plain": [
       "  0%|          | 0/3 [00:00<?, ?it/s]"
      ]
     },
     "metadata": {},
     "output_type": "display_data"
    },
    {
     "name": "stderr",
     "output_type": "stream",
     "text": [
      "c:\\Users\\kjvf934\\repo\\ml_challenge\\.venv\\lib\\site-packages\\torch\\amp\\autocast_mode.py:250: UserWarning: User provided device_type of 'cuda', but CUDA is not available. Disabling\n",
      "  warnings.warn(\n"
     ]
    },
    {
     "name": "stdout",
     "output_type": "stream",
     "text": [
      "Train MSE  0.10902828723192215\n"
     ]
    },
    {
     "data": {
      "application/vnd.jupyter.widget-view+json": {
       "model_id": "7812111fd95e4e3697802a04e681b750",
       "version_major": 2,
       "version_minor": 0
      },
      "text/plain": [
       "  0%|          | 0/6 [00:00<?, ?it/s]"
      ]
     },
     "metadata": {},
     "output_type": "display_data"
    },
    {
     "name": "stdout",
     "output_type": "stream",
     "text": [
      "Val MSE  0.14056994020938873\n",
      "2\n"
     ]
    },
    {
     "data": {
      "application/vnd.jupyter.widget-view+json": {
       "model_id": "b94be134c64d410abbf4361fb826d62b",
       "version_major": 2,
       "version_minor": 0
      },
      "text/plain": [
       "  0%|          | 0/3 [00:00<?, ?it/s]"
      ]
     },
     "metadata": {},
     "output_type": "display_data"
    },
    {
     "name": "stdout",
     "output_type": "stream",
     "text": [
      "Train MSE  0.06007283553481102\n"
     ]
    },
    {
     "data": {
      "application/vnd.jupyter.widget-view+json": {
       "model_id": "33b8c68a07584e8eb1484d90c451ddc4",
       "version_major": 2,
       "version_minor": 0
      },
      "text/plain": [
       "  0%|          | 0/6 [00:00<?, ?it/s]"
      ]
     },
     "metadata": {},
     "output_type": "display_data"
    },
    {
     "name": "stdout",
     "output_type": "stream",
     "text": [
      "Val MSE  0.10643921047449112\n",
      "3\n"
     ]
    },
    {
     "data": {
      "application/vnd.jupyter.widget-view+json": {
       "model_id": "ebbf0c9c862e4d338de84b6ff6987cb6",
       "version_major": 2,
       "version_minor": 0
      },
      "text/plain": [
       "  0%|          | 0/3 [00:00<?, ?it/s]"
      ]
     },
     "metadata": {},
     "output_type": "display_data"
    },
    {
     "name": "stdout",
     "output_type": "stream",
     "text": [
      "Train MSE  0.07861015200614929\n"
     ]
    },
    {
     "data": {
      "application/vnd.jupyter.widget-view+json": {
       "model_id": "49805a0620ac449eb2598edfeb1f944e",
       "version_major": 2,
       "version_minor": 0
      },
      "text/plain": [
       "  0%|          | 0/6 [00:00<?, ?it/s]"
      ]
     },
     "metadata": {},
     "output_type": "display_data"
    },
    {
     "name": "stdout",
     "output_type": "stream",
     "text": [
      "Val MSE  0.2634006142616272\n",
      "4\n"
     ]
    },
    {
     "data": {
      "application/vnd.jupyter.widget-view+json": {
       "model_id": "f05924258fda40aa8c44f963df491f9f",
       "version_major": 2,
       "version_minor": 0
      },
      "text/plain": [
       "  0%|          | 0/3 [00:00<?, ?it/s]"
      ]
     },
     "metadata": {},
     "output_type": "display_data"
    },
    {
     "name": "stdout",
     "output_type": "stream",
     "text": [
      "Train MSE  0.0726395845413208\n"
     ]
    },
    {
     "data": {
      "application/vnd.jupyter.widget-view+json": {
       "model_id": "c732f1875c3645ef81e879f608ef4fab",
       "version_major": 2,
       "version_minor": 0
      },
      "text/plain": [
       "  0%|          | 0/6 [00:00<?, ?it/s]"
      ]
     },
     "metadata": {},
     "output_type": "display_data"
    },
    {
     "name": "stdout",
     "output_type": "stream",
     "text": [
      "Val MSE  0.03484001010656357\n",
      "5\n"
     ]
    },
    {
     "data": {
      "application/vnd.jupyter.widget-view+json": {
       "model_id": "f71fc7d2ac114cd584db1c5d926014ac",
       "version_major": 2,
       "version_minor": 0
      },
      "text/plain": [
       "  0%|          | 0/3 [00:00<?, ?it/s]"
      ]
     },
     "metadata": {},
     "output_type": "display_data"
    },
    {
     "name": "stdout",
     "output_type": "stream",
     "text": [
      "Train MSE  0.027868105098605156\n"
     ]
    },
    {
     "data": {
      "application/vnd.jupyter.widget-view+json": {
       "model_id": "127040ce4b6d4957a3d2c90f739ab5c7",
       "version_major": 2,
       "version_minor": 0
      },
      "text/plain": [
       "  0%|          | 0/6 [00:00<?, ?it/s]"
      ]
     },
     "metadata": {},
     "output_type": "display_data"
    },
    {
     "name": "stdout",
     "output_type": "stream",
     "text": [
      "Val MSE  0.0033599333837628365\n",
      "6\n"
     ]
    },
    {
     "data": {
      "application/vnd.jupyter.widget-view+json": {
       "model_id": "3695b81079d54571a7abec0c07272bb7",
       "version_major": 2,
       "version_minor": 0
      },
      "text/plain": [
       "  0%|          | 0/3 [00:00<?, ?it/s]"
      ]
     },
     "metadata": {},
     "output_type": "display_data"
    },
    {
     "name": "stdout",
     "output_type": "stream",
     "text": [
      "Train MSE  0.0656183734536171\n"
     ]
    },
    {
     "data": {
      "application/vnd.jupyter.widget-view+json": {
       "model_id": "76df7b9f1d9f406dba4656e092cb7299",
       "version_major": 2,
       "version_minor": 0
      },
      "text/plain": [
       "  0%|          | 0/6 [00:00<?, ?it/s]"
      ]
     },
     "metadata": {},
     "output_type": "display_data"
    },
    {
     "name": "stdout",
     "output_type": "stream",
     "text": [
      "Val MSE  0.02304399199783802\n",
      "7\n"
     ]
    },
    {
     "data": {
      "application/vnd.jupyter.widget-view+json": {
       "model_id": "c8454c1d53d9464ebb4b7e9f9aa49c0a",
       "version_major": 2,
       "version_minor": 0
      },
      "text/plain": [
       "  0%|          | 0/3 [00:00<?, ?it/s]"
      ]
     },
     "metadata": {},
     "output_type": "display_data"
    },
    {
     "name": "stdout",
     "output_type": "stream",
     "text": [
      "Train MSE  0.038351643830537796\n"
     ]
    },
    {
     "data": {
      "application/vnd.jupyter.widget-view+json": {
       "model_id": "0b9922470d9c4c778f85d3c1196ed71a",
       "version_major": 2,
       "version_minor": 0
      },
      "text/plain": [
       "  0%|          | 0/6 [00:00<?, ?it/s]"
      ]
     },
     "metadata": {},
     "output_type": "display_data"
    },
    {
     "name": "stdout",
     "output_type": "stream",
     "text": [
      "Val MSE  0.008983476087450981\n",
      "8\n"
     ]
    },
    {
     "data": {
      "application/vnd.jupyter.widget-view+json": {
       "model_id": "3b06b47bcd824e478a5e30768a697418",
       "version_major": 2,
       "version_minor": 0
      },
      "text/plain": [
       "  0%|          | 0/3 [00:00<?, ?it/s]"
      ]
     },
     "metadata": {},
     "output_type": "display_data"
    },
    {
     "name": "stdout",
     "output_type": "stream",
     "text": [
      "Train MSE  0.03700414299964905\n"
     ]
    },
    {
     "data": {
      "application/vnd.jupyter.widget-view+json": {
       "model_id": "2ad2292afc3c4a74ae19060fdc068543",
       "version_major": 2,
       "version_minor": 0
      },
      "text/plain": [
       "  0%|          | 0/6 [00:00<?, ?it/s]"
      ]
     },
     "metadata": {},
     "output_type": "display_data"
    },
    {
     "name": "stdout",
     "output_type": "stream",
     "text": [
      "Val MSE  0.005072949454188347\n",
      "9\n"
     ]
    },
    {
     "data": {
      "application/vnd.jupyter.widget-view+json": {
       "model_id": "9619d88c20f84a5ab7db3b45455a3cbd",
       "version_major": 2,
       "version_minor": 0
      },
      "text/plain": [
       "  0%|          | 0/3 [00:00<?, ?it/s]"
      ]
     },
     "metadata": {},
     "output_type": "display_data"
    },
    {
     "name": "stdout",
     "output_type": "stream",
     "text": [
      "Train MSE  0.02829933539032936\n"
     ]
    },
    {
     "data": {
      "application/vnd.jupyter.widget-view+json": {
       "model_id": "513aa59fad314b998cee42b15320166a",
       "version_major": 2,
       "version_minor": 0
      },
      "text/plain": [
       "  0%|          | 0/6 [00:00<?, ?it/s]"
      ]
     },
     "metadata": {},
     "output_type": "display_data"
    },
    {
     "name": "stdout",
     "output_type": "stream",
     "text": [
      "Val MSE  0.01343795657157898\n",
      "10\n"
     ]
    },
    {
     "data": {
      "application/vnd.jupyter.widget-view+json": {
       "model_id": "fc4d01f1da204ab5aea489ec628fc887",
       "version_major": 2,
       "version_minor": 0
      },
      "text/plain": [
       "  0%|          | 0/3 [00:00<?, ?it/s]"
      ]
     },
     "metadata": {},
     "output_type": "display_data"
    },
    {
     "name": "stdout",
     "output_type": "stream",
     "text": [
      "Train MSE  0.036069441586732864\n"
     ]
    },
    {
     "data": {
      "application/vnd.jupyter.widget-view+json": {
       "model_id": "c5ceb3b355bb46e78beec931afea4026",
       "version_major": 2,
       "version_minor": 0
      },
      "text/plain": [
       "  0%|          | 0/6 [00:00<?, ?it/s]"
      ]
     },
     "metadata": {},
     "output_type": "display_data"
    },
    {
     "name": "stdout",
     "output_type": "stream",
     "text": [
      "Val MSE  0.010447056964039803\n",
      "Early stopping after 10 epochs.\n",
      "[0.10902828723192215, 0.06007283553481102, 0.07861015200614929, 0.0726395845413208, 0.027868105098605156, 0.0656183734536171, 0.038351643830537796, 0.03700414299964905, 0.02829933539032936, 0.036069441586732864]\n",
      "[0.14056994020938873, 0.10643921047449112, 0.2634006142616272, 0.03484001010656357, 0.0033599333837628365, 0.02304399199783802, 0.008983476087450981, 0.005072949454188347, 0.01343795657157898, 0.010447056964039803]\n"
     ]
    },
    {
     "data": {
      "image/png": "[encoded data removed]",
      "text/plain": [
       "<Figure size 640x480 with 1 Axes>"
      ]
     },
     "metadata": {},
     "output_type": "display_data"
    },
    {
     "name": "stdout",
     "output_type": "stream",
     "text": [
      "Training time:  6.253119230270386\n"
     ]
    }
   ],
   "source": [
    "#I am choosing 30 epochs; it's probably too many for such small dataset but early stopping should help prevent overfitting\n",
    "# learning rate is 0.001 as a starting point (better start higher, but not too high so to avoid overshooting)\n",
    "\n",
    "trainer = train.ThermoNetTrainer(train_dataloader, val_dataloader, lr=0.001, epochs=30)\n",
    "start = time.time()\n",
    "trainer.train()\n",
    "print('Training time: ', time.time() - start)"
   ]
  },
  {
   "cell_type": "code",
   "execution_count": 55,
   "id": "77f12cb8-8683-4751-a1fd-54d413ee9f42",
   "metadata": {},
   "outputs": [
    {
     "data": {
      "application/vnd.jupyter.widget-view+json": {
       "model_id": "72971fb2a3044ab8967cfd0418409e70",
       "version_major": 2,
       "version_minor": 0
      },
      "text/plain": [
       "  0%|          | 0/3 [00:00<?, ?it/s]"
      ]
     },
     "metadata": {},
     "output_type": "display_data"
    },
    {
     "name": "stdout",
     "output_type": "stream",
     "text": [
      "0.009730197\n",
      "0.7590632951593628\n"
     ]
    }
   ],
   "source": [
    "# for consistency, we will check how it performs on the train set (not very informative but good to check overall performance)\n",
    "score_mse=[]\n",
    "for inputs, labels in tqdm(train_dataloader):\n",
    "    y_pred = trainer.predict(inputs)\n",
    "    score_mse.append(mean_squared_error(y_pred, labels))\n",
    "print(np.mean(score_mse))\n",
    "print(r2_score(y_pred, labels))"
   ]
  },
  {
   "cell_type": "code",
   "execution_count": 56,
   "id": "2c3c7e2e-5179-4aeb-8d03-d09fa9b20d2c",
   "metadata": {},
   "outputs": [
    {
     "name": "stdout",
     "output_type": "stream",
     "text": [
      "tensor([0.5248]) tensor([0.6250])\n",
      "tensor([0.6596]) tensor([0.5368])\n",
      "tensor([0.4634]) tensor([0.5257])\n",
      "tensor([0.4723]) tensor([0.3566])\n",
      "tensor([0.4621]) tensor([0.3897])\n",
      "tensor([0.4340]) tensor([0.3125])\n",
      "tensor([0.7526]) tensor([0.8456])\n",
      "tensor([0.5326]) tensor([0.5515])\n",
      "tensor([0.8776]) tensor([1.])\n",
      "tensor([0.3341]) tensor([0.4154])\n",
      "tensor([0.5423]) tensor([0.5478])\n",
      "tensor([0.4550]) tensor([0.6250])\n",
      "tensor([0.5146]) tensor([0.5882])\n",
      "tensor([0.8673]) tensor([0.9963])\n",
      "tensor([0.5705]) tensor([0.6287])\n"
     ]
    }
   ],
   "source": [
    "for i in range(15):\n",
    "    print(y_pred[i], labels[i])"
   ]
  },
  {
   "attachments": {},
   "cell_type": "markdown",
   "id": "723ecee1",
   "metadata": {},
   "source": [
    "Relatively good performance on the train set; lets see how it generalizes within CV"
   ]
  },
  {
   "cell_type": "code",
   "execution_count": 57,
   "id": "1a960b88-8361-43f9-a90f-75a5c7ffa821",
   "metadata": {},
   "outputs": [
    {
     "name": "stdout",
     "output_type": "stream",
     "text": [
      "0\n",
      "1\n"
     ]
    },
    {
     "data": {
      "application/vnd.jupyter.widget-view+json": {
       "model_id": "d85784893a824e11bd800c762b8cbaf3",
       "version_major": 2,
       "version_minor": 0
      },
      "text/plain": [
       "  0%|          | 0/2 [00:00<?, ?it/s]"
      ]
     },
     "metadata": {},
     "output_type": "display_data"
    },
    {
     "name": "stderr",
     "output_type": "stream",
     "text": [
      "c:\\Users\\kjvf934\\repo\\ml_challenge\\.venv\\lib\\site-packages\\torch\\amp\\autocast_mode.py:250: UserWarning: User provided device_type of 'cuda', but CUDA is not available. Disabling\n",
      "  warnings.warn(\n"
     ]
    },
    {
     "name": "stdout",
     "output_type": "stream",
     "text": [
      "Train MSE  0.31103435158729553\n"
     ]
    },
    {
     "data": {
      "application/vnd.jupyter.widget-view+json": {
       "model_id": "f09d0fcabadb43b683c23791035e0bc7",
       "version_major": 2,
       "version_minor": 0
      },
      "text/plain": [
       "  0%|          | 0/1 [00:00<?, ?it/s]"
      ]
     },
     "metadata": {},
     "output_type": "display_data"
    },
    {
     "name": "stdout",
     "output_type": "stream",
     "text": [
      "Val MSE  0.0835675299167633\n",
      "2\n"
     ]
    },
    {
     "data": {
      "application/vnd.jupyter.widget-view+json": {
       "model_id": "adf950c4c60a4515961251e78d3901f0",
       "version_major": 2,
       "version_minor": 0
      },
      "text/plain": [
       "  0%|          | 0/2 [00:00<?, ?it/s]"
      ]
     },
     "metadata": {},
     "output_type": "display_data"
    },
    {
     "name": "stdout",
     "output_type": "stream",
     "text": [
      "Train MSE  0.09752853959798813\n"
     ]
    },
    {
     "data": {
      "application/vnd.jupyter.widget-view+json": {
       "model_id": "72e263bba31940be9ab0d402e170ffe2",
       "version_major": 2,
       "version_minor": 0
      },
      "text/plain": [
       "  0%|          | 0/1 [00:00<?, ?it/s]"
      ]
     },
     "metadata": {},
     "output_type": "display_data"
    },
    {
     "name": "stdout",
     "output_type": "stream",
     "text": [
      "Val MSE  0.0923973023891449\n",
      "3\n"
     ]
    },
    {
     "data": {
      "application/vnd.jupyter.widget-view+json": {
       "model_id": "9aef6b3069b74d419d4bc42885aba17b",
       "version_major": 2,
       "version_minor": 0
      },
      "text/plain": [
       "  0%|          | 0/2 [00:00<?, ?it/s]"
      ]
     },
     "metadata": {},
     "output_type": "display_data"
    },
    {
     "name": "stdout",
     "output_type": "stream",
     "text": [
      "Train MSE  0.10154341906309128\n"
     ]
    },
    {
     "data": {
      "application/vnd.jupyter.widget-view+json": {
       "model_id": "96c04aa2f45c4aa6a6879eb8a94371de",
       "version_major": 2,
       "version_minor": 0
      },
      "text/plain": [
       "  0%|          | 0/1 [00:00<?, ?it/s]"
      ]
     },
     "metadata": {},
     "output_type": "display_data"
    },
    {
     "name": "stdout",
     "output_type": "stream",
     "text": [
      "Val MSE  0.055785711854696274\n",
      "4\n"
     ]
    },
    {
     "data": {
      "application/vnd.jupyter.widget-view+json": {
       "model_id": "b1a14fccd1fd4f90a3710ffe5a00fd5f",
       "version_major": 2,
       "version_minor": 0
      },
      "text/plain": [
       "  0%|          | 0/2 [00:00<?, ?it/s]"
      ]
     },
     "metadata": {},
     "output_type": "display_data"
    },
    {
     "name": "stdout",
     "output_type": "stream",
     "text": [
      "Train MSE  0.10059406608343124\n"
     ]
    },
    {
     "data": {
      "application/vnd.jupyter.widget-view+json": {
       "model_id": "771d338e617a4e5c960f2af390c868e1",
       "version_major": 2,
       "version_minor": 0
      },
      "text/plain": [
       "  0%|          | 0/1 [00:00<?, ?it/s]"
      ]
     },
     "metadata": {},
     "output_type": "display_data"
    },
    {
     "name": "stdout",
     "output_type": "stream",
     "text": [
      "Val MSE  0.06514794379472733\n",
      "5\n"
     ]
    },
    {
     "data": {
      "application/vnd.jupyter.widget-view+json": {
       "model_id": "897a015fce9044018e9073f11fe29983",
       "version_major": 2,
       "version_minor": 0
      },
      "text/plain": [
       "  0%|          | 0/2 [00:00<?, ?it/s]"
      ]
     },
     "metadata": {},
     "output_type": "display_data"
    },
    {
     "name": "stdout",
     "output_type": "stream",
     "text": [
      "Train MSE  0.06542680412530899\n"
     ]
    },
    {
     "data": {
      "application/vnd.jupyter.widget-view+json": {
       "model_id": "be687f76ef31434f9d9af31ec1b99320",
       "version_major": 2,
       "version_minor": 0
      },
      "text/plain": [
       "  0%|          | 0/1 [00:00<?, ?it/s]"
      ]
     },
     "metadata": {},
     "output_type": "display_data"
    },
    {
     "name": "stdout",
     "output_type": "stream",
     "text": [
      "Val MSE  0.040737446397542953\n",
      "6\n"
     ]
    },
    {
     "data": {
      "application/vnd.jupyter.widget-view+json": {
       "model_id": "c58f2a2021d349c28967292d43757ace",
       "version_major": 2,
       "version_minor": 0
      },
      "text/plain": [
       "  0%|          | 0/2 [00:00<?, ?it/s]"
      ]
     },
     "metadata": {},
     "output_type": "display_data"
    },
    {
     "name": "stdout",
     "output_type": "stream",
     "text": [
      "Train MSE  0.048708945512771606\n"
     ]
    },
    {
     "data": {
      "application/vnd.jupyter.widget-view+json": {
       "model_id": "4c61ee69fb6c41d9891d36b70559afd1",
       "version_major": 2,
       "version_minor": 0
      },
      "text/plain": [
       "  0%|          | 0/1 [00:00<?, ?it/s]"
      ]
     },
     "metadata": {},
     "output_type": "display_data"
    },
    {
     "name": "stdout",
     "output_type": "stream",
     "text": [
      "Val MSE  0.062453728169202805\n",
      "7\n"
     ]
    },
    {
     "data": {
      "application/vnd.jupyter.widget-view+json": {
       "model_id": "12c8fad52a68462a8a95b7f421a75c32",
       "version_major": 2,
       "version_minor": 0
      },
      "text/plain": [
       "  0%|          | 0/2 [00:00<?, ?it/s]"
      ]
     },
     "metadata": {},
     "output_type": "display_data"
    },
    {
     "name": "stdout",
     "output_type": "stream",
     "text": [
      "Train MSE  0.03559408709406853\n"
     ]
    },
    {
     "data": {
      "application/vnd.jupyter.widget-view+json": {
       "model_id": "18bdefb1e78a499489fda18367b4a858",
       "version_major": 2,
       "version_minor": 0
      },
      "text/plain": [
       "  0%|          | 0/1 [00:00<?, ?it/s]"
      ]
     },
     "metadata": {},
     "output_type": "display_data"
    },
    {
     "name": "stdout",
     "output_type": "stream",
     "text": [
      "Val MSE  0.0483003668487072\n",
      "8\n"
     ]
    },
    {
     "data": {
      "application/vnd.jupyter.widget-view+json": {
       "model_id": "1373499fa2ec4c6bb2c4b052fb479186",
       "version_major": 2,
       "version_minor": 0
      },
      "text/plain": [
       "  0%|          | 0/2 [00:00<?, ?it/s]"
      ]
     },
     "metadata": {},
     "output_type": "display_data"
    },
    {
     "name": "stdout",
     "output_type": "stream",
     "text": [
      "Train MSE  0.0642368495464325\n"
     ]
    },
    {
     "data": {
      "application/vnd.jupyter.widget-view+json": {
       "model_id": "e58cdd76499a4dac90fe070fcba4715c",
       "version_major": 2,
       "version_minor": 0
      },
      "text/plain": [
       "  0%|          | 0/1 [00:00<?, ?it/s]"
      ]
     },
     "metadata": {},
     "output_type": "display_data"
    },
    {
     "name": "stdout",
     "output_type": "stream",
     "text": [
      "Val MSE  0.06457527726888657\n",
      "9\n"
     ]
    },
    {
     "data": {
      "application/vnd.jupyter.widget-view+json": {
       "model_id": "5e01923b103945c0a06dfe1ac6ed823e",
       "version_major": 2,
       "version_minor": 0
      },
      "text/plain": [
       "  0%|          | 0/2 [00:00<?, ?it/s]"
      ]
     },
     "metadata": {},
     "output_type": "display_data"
    },
    {
     "name": "stdout",
     "output_type": "stream",
     "text": [
      "Train MSE  0.06225886568427086\n"
     ]
    },
    {
     "data": {
      "application/vnd.jupyter.widget-view+json": {
       "model_id": "7e970d2677444ffb9aa7d4c334652f13",
       "version_major": 2,
       "version_minor": 0
      },
      "text/plain": [
       "  0%|          | 0/1 [00:00<?, ?it/s]"
      ]
     },
     "metadata": {},
     "output_type": "display_data"
    },
    {
     "name": "stdout",
     "output_type": "stream",
     "text": [
      "Val MSE  0.03409210965037346\n",
      "10\n"
     ]
    },
    {
     "data": {
      "application/vnd.jupyter.widget-view+json": {
       "model_id": "0621bb3ca0fd4a1b83efd3be3a247b07",
       "version_major": 2,
       "version_minor": 0
      },
      "text/plain": [
       "  0%|          | 0/2 [00:00<?, ?it/s]"
      ]
     },
     "metadata": {},
     "output_type": "display_data"
    },
    {
     "name": "stdout",
     "output_type": "stream",
     "text": [
      "Train MSE  0.03465361148118973\n"
     ]
    },
    {
     "data": {
      "application/vnd.jupyter.widget-view+json": {
       "model_id": "4ae30c7345d1414a90af535d0e765126",
       "version_major": 2,
       "version_minor": 0
      },
      "text/plain": [
       "  0%|          | 0/1 [00:00<?, ?it/s]"
      ]
     },
     "metadata": {},
     "output_type": "display_data"
    },
    {
     "name": "stdout",
     "output_type": "stream",
     "text": [
      "Val MSE  0.04173560068011284\n",
      "11\n"
     ]
    },
    {
     "data": {
      "application/vnd.jupyter.widget-view+json": {
       "model_id": "1208500d0a1b4470be2e1e4b975b69dc",
       "version_major": 2,
       "version_minor": 0
      },
      "text/plain": [
       "  0%|          | 0/2 [00:00<?, ?it/s]"
      ]
     },
     "metadata": {},
     "output_type": "display_data"
    },
    {
     "name": "stdout",
     "output_type": "stream",
     "text": [
      "Train MSE  0.03458058461546898\n"
     ]
    },
    {
     "data": {
      "application/vnd.jupyter.widget-view+json": {
       "model_id": "e2564d6a20e04513b9912e4877359263",
       "version_major": 2,
       "version_minor": 0
      },
      "text/plain": [
       "  0%|          | 0/1 [00:00<?, ?it/s]"
      ]
     },
     "metadata": {},
     "output_type": "display_data"
    },
    {
     "name": "stdout",
     "output_type": "stream",
     "text": [
      "Val MSE  0.0341634638607502\n",
      "12\n"
     ]
    },
    {
     "data": {
      "application/vnd.jupyter.widget-view+json": {
       "model_id": "87c64d8a55b5429789b5b8977dbceea7",
       "version_major": 2,
       "version_minor": 0
      },
      "text/plain": [
       "  0%|          | 0/2 [00:00<?, ?it/s]"
      ]
     },
     "metadata": {},
     "output_type": "display_data"
    },
    {
     "name": "stdout",
     "output_type": "stream",
     "text": [
      "Train MSE  0.04733183607459068\n"
     ]
    },
    {
     "data": {
      "application/vnd.jupyter.widget-view+json": {
       "model_id": "228aab70f8e34c209f56cb00f0cd6273",
       "version_major": 2,
       "version_minor": 0
      },
      "text/plain": [
       "  0%|          | 0/1 [00:00<?, ?it/s]"
      ]
     },
     "metadata": {},
     "output_type": "display_data"
    },
    {
     "name": "stdout",
     "output_type": "stream",
     "text": [
      "Val MSE  0.02475688047707081\n",
      "13\n"
     ]
    },
    {
     "data": {
      "application/vnd.jupyter.widget-view+json": {
       "model_id": "25af573933504ac2b79428b1b29f6655",
       "version_major": 2,
       "version_minor": 0
      },
      "text/plain": [
       "  0%|          | 0/2 [00:00<?, ?it/s]"
      ]
     },
     "metadata": {},
     "output_type": "display_data"
    },
    {
     "name": "stdout",
     "output_type": "stream",
     "text": [
      "Train MSE  0.023995252326130867\n"
     ]
    },
    {
     "data": {
      "application/vnd.jupyter.widget-view+json": {
       "model_id": "fc09a5e7781347c2934d8e8677c0637b",
       "version_major": 2,
       "version_minor": 0
      },
      "text/plain": [
       "  0%|          | 0/1 [00:00<?, ?it/s]"
      ]
     },
     "metadata": {},
     "output_type": "display_data"
    },
    {
     "name": "stdout",
     "output_type": "stream",
     "text": [
      "Val MSE  0.0573197677731514\n",
      "14\n"
     ]
    },
    {
     "data": {
      "application/vnd.jupyter.widget-view+json": {
       "model_id": "f9ecfe331675406c8db97c6e02b95fb9",
       "version_major": 2,
       "version_minor": 0
      },
      "text/plain": [
       "  0%|          | 0/2 [00:00<?, ?it/s]"
      ]
     },
     "metadata": {},
     "output_type": "display_data"
    },
    {
     "name": "stdout",
     "output_type": "stream",
     "text": [
      "Train MSE  0.01135167758911848\n"
     ]
    },
    {
     "data": {
      "application/vnd.jupyter.widget-view+json": {
       "model_id": "3ae2cec4761948b884ce734b0923ccb4",
       "version_major": 2,
       "version_minor": 0
      },
      "text/plain": [
       "  0%|          | 0/1 [00:00<?, ?it/s]"
      ]
     },
     "metadata": {},
     "output_type": "display_data"
    },
    {
     "name": "stdout",
     "output_type": "stream",
     "text": [
      "Val MSE  0.030903514474630356\n",
      "15\n"
     ]
    },
    {
     "data": {
      "application/vnd.jupyter.widget-view+json": {
       "model_id": "625a34b30b594f8b86263bd0b3ea849a",
       "version_major": 2,
       "version_minor": 0
      },
      "text/plain": [
       "  0%|          | 0/2 [00:00<?, ?it/s]"
      ]
     },
     "metadata": {},
     "output_type": "display_data"
    },
    {
     "name": "stdout",
     "output_type": "stream",
     "text": [
      "Train MSE  0.03569190949201584\n"
     ]
    },
    {
     "data": {
      "application/vnd.jupyter.widget-view+json": {
       "model_id": "0fc2bb1e624441f792866b6b8840beac",
       "version_major": 2,
       "version_minor": 0
      },
      "text/plain": [
       "  0%|          | 0/1 [00:00<?, ?it/s]"
      ]
     },
     "metadata": {},
     "output_type": "display_data"
    },
    {
     "name": "stdout",
     "output_type": "stream",
     "text": [
      "Val MSE  0.04260724037885666\n",
      "16\n"
     ]
    },
    {
     "data": {
      "application/vnd.jupyter.widget-view+json": {
       "model_id": "e0e81f2781954387b09d46187676c4be",
       "version_major": 2,
       "version_minor": 0
      },
      "text/plain": [
       "  0%|          | 0/2 [00:00<?, ?it/s]"
      ]
     },
     "metadata": {},
     "output_type": "display_data"
    },
    {
     "name": "stdout",
     "output_type": "stream",
     "text": [
      "Train MSE  0.05518101900815964\n"
     ]
    },
    {
     "data": {
      "application/vnd.jupyter.widget-view+json": {
       "model_id": "94aec2d9571c465ebe0a731ecf095024",
       "version_major": 2,
       "version_minor": 0
      },
      "text/plain": [
       "  0%|          | 0/1 [00:00<?, ?it/s]"
      ]
     },
     "metadata": {},
     "output_type": "display_data"
    },
    {
     "name": "stdout",
     "output_type": "stream",
     "text": [
      "Val MSE  0.04170001298189163\n",
      "17\n"
     ]
    },
    {
     "data": {
      "application/vnd.jupyter.widget-view+json": {
       "model_id": "169cd26343a442ba863963397ae2c6b9",
       "version_major": 2,
       "version_minor": 0
      },
      "text/plain": [
       "  0%|          | 0/2 [00:00<?, ?it/s]"
      ]
     },
     "metadata": {},
     "output_type": "display_data"
    },
    {
     "name": "stdout",
     "output_type": "stream",
     "text": [
      "Train MSE  0.03602438047528267\n"
     ]
    },
    {
     "data": {
      "application/vnd.jupyter.widget-view+json": {
       "model_id": "31725c32a94e41b3839f7eb6ec8a0afc",
       "version_major": 2,
       "version_minor": 0
      },
      "text/plain": [
       "  0%|          | 0/1 [00:00<?, ?it/s]"
      ]
     },
     "metadata": {},
     "output_type": "display_data"
    },
    {
     "name": "stdout",
     "output_type": "stream",
     "text": [
      "Val MSE  0.05283377692103386\n",
      "Early stopping after 17 epochs.\n",
      "[0.31103435158729553, 0.09752853959798813, 0.10154341906309128, 0.10059406608343124, 0.06542680412530899, 0.048708945512771606, 0.03559408709406853, 0.0642368495464325, 0.06225886568427086, 0.03465361148118973, 0.03458058461546898, 0.04733183607459068, 0.023995252326130867, 0.01135167758911848, 0.03569190949201584, 0.05518101900815964, 0.03602438047528267]\n",
      "[0.0835675299167633, 0.0923973023891449, 0.055785711854696274, 0.06514794379472733, 0.040737446397542953, 0.062453728169202805, 0.0483003668487072, 0.06457527726888657, 0.03409210965037346, 0.04173560068011284, 0.0341634638607502, 0.02475688047707081, 0.0573197677731514, 0.030903514474630356, 0.04260724037885666, 0.04170001298189163, 0.05283377692103386]\n"
     ]
    },
    {
     "data": {
      "image/png": "[encoded data removed]",
      "text/plain": [
       "<Figure size 640x480 with 1 Axes>"
      ]
     },
     "metadata": {},
     "output_type": "display_data"
    },
    {
     "name": "stdout",
     "output_type": "stream",
     "text": [
      "0.014783362282450165\n",
      "1\n",
      "1\n"
     ]
    },
    {
     "data": {
      "application/vnd.jupyter.widget-view+json": {
       "model_id": "0fd439915b9d4324ac1362fa7ea8f3ff",
       "version_major": 2,
       "version_minor": 0
      },
      "text/plain": [
       "  0%|          | 0/2 [00:00<?, ?it/s]"
      ]
     },
     "metadata": {},
     "output_type": "display_data"
    },
    {
     "name": "stderr",
     "output_type": "stream",
     "text": [
      "c:\\Users\\kjvf934\\repo\\ml_challenge\\.venv\\lib\\site-packages\\torch\\amp\\autocast_mode.py:250: UserWarning: User provided device_type of 'cuda', but CUDA is not available. Disabling\n",
      "  warnings.warn(\n"
     ]
    },
    {
     "name": "stdout",
     "output_type": "stream",
     "text": [
      "Train MSE  0.0932532548904419\n"
     ]
    },
    {
     "data": {
      "application/vnd.jupyter.widget-view+json": {
       "model_id": "e21495c960664357bd8d17d30934c61e",
       "version_major": 2,
       "version_minor": 0
      },
      "text/plain": [
       "  0%|          | 0/1 [00:00<?, ?it/s]"
      ]
     },
     "metadata": {},
     "output_type": "display_data"
    },
    {
     "name": "stdout",
     "output_type": "stream",
     "text": [
      "Val MSE  0.04447976499795914\n",
      "2\n"
     ]
    },
    {
     "data": {
      "application/vnd.jupyter.widget-view+json": {
       "model_id": "97e48cc644d94c33af76954da5a5a503",
       "version_major": 2,
       "version_minor": 0
      },
      "text/plain": [
       "  0%|          | 0/2 [00:00<?, ?it/s]"
      ]
     },
     "metadata": {},
     "output_type": "display_data"
    },
    {
     "name": "stdout",
     "output_type": "stream",
     "text": [
      "Train MSE  0.0762881338596344\n"
     ]
    },
    {
     "data": {
      "application/vnd.jupyter.widget-view+json": {
       "model_id": "6f32af5038d645b69d82b4c5a9d673b9",
       "version_major": 2,
       "version_minor": 0
      },
      "text/plain": [
       "  0%|          | 0/1 [00:00<?, ?it/s]"
      ]
     },
     "metadata": {},
     "output_type": "display_data"
    },
    {
     "name": "stdout",
     "output_type": "stream",
     "text": [
      "Val MSE  0.03178311884403229\n",
      "3\n"
     ]
    },
    {
     "data": {
      "application/vnd.jupyter.widget-view+json": {
       "model_id": "d07ec87c847f40cab4f7e0134eeaebdb",
       "version_major": 2,
       "version_minor": 0
      },
      "text/plain": [
       "  0%|          | 0/2 [00:00<?, ?it/s]"
      ]
     },
     "metadata": {},
     "output_type": "display_data"
    },
    {
     "name": "stdout",
     "output_type": "stream",
     "text": [
      "Train MSE  0.0784391462802887\n"
     ]
    },
    {
     "data": {
      "application/vnd.jupyter.widget-view+json": {
       "model_id": "1c96d4b8b05c4331b0926504226fd78e",
       "version_major": 2,
       "version_minor": 0
      },
      "text/plain": [
       "  0%|          | 0/1 [00:00<?, ?it/s]"
      ]
     },
     "metadata": {},
     "output_type": "display_data"
    },
    {
     "name": "stdout",
     "output_type": "stream",
     "text": [
      "Val MSE  0.024256499484181404\n",
      "4\n"
     ]
    },
    {
     "data": {
      "application/vnd.jupyter.widget-view+json": {
       "model_id": "989b2b82ae7e4638916b8591e0136ccf",
       "version_major": 2,
       "version_minor": 0
      },
      "text/plain": [
       "  0%|          | 0/2 [00:00<?, ?it/s]"
      ]
     },
     "metadata": {},
     "output_type": "display_data"
    },
    {
     "name": "stdout",
     "output_type": "stream",
     "text": [
      "Train MSE  0.056257713586091995\n"
     ]
    },
    {
     "data": {
      "application/vnd.jupyter.widget-view+json": {
       "model_id": "5c6c3d3a111e45118857335bffc856e1",
       "version_major": 2,
       "version_minor": 0
      },
      "text/plain": [
       "  0%|          | 0/1 [00:00<?, ?it/s]"
      ]
     },
     "metadata": {},
     "output_type": "display_data"
    },
    {
     "name": "stdout",
     "output_type": "stream",
     "text": [
      "Val MSE  0.029212411493062973\n",
      "5\n"
     ]
    },
    {
     "data": {
      "application/vnd.jupyter.widget-view+json": {
       "model_id": "beb5c02bf3df4543a29e7e701005080f",
       "version_major": 2,
       "version_minor": 0
      },
      "text/plain": [
       "  0%|          | 0/2 [00:00<?, ?it/s]"
      ]
     },
     "metadata": {},
     "output_type": "display_data"
    },
    {
     "name": "stdout",
     "output_type": "stream",
     "text": [
      "Train MSE  0.05496382713317871\n"
     ]
    },
    {
     "data": {
      "application/vnd.jupyter.widget-view+json": {
       "model_id": "5ca504c9b21a4813885b6138187ecae1",
       "version_major": 2,
       "version_minor": 0
      },
      "text/plain": [
       "  0%|          | 0/1 [00:00<?, ?it/s]"
      ]
     },
     "metadata": {},
     "output_type": "display_data"
    },
    {
     "name": "stdout",
     "output_type": "stream",
     "text": [
      "Val MSE  0.020342757925391197\n",
      "6\n"
     ]
    },
    {
     "data": {
      "application/vnd.jupyter.widget-view+json": {
       "model_id": "027aab7d412f4faa91bf8d6289ad2598",
       "version_major": 2,
       "version_minor": 0
      },
      "text/plain": [
       "  0%|          | 0/2 [00:00<?, ?it/s]"
      ]
     },
     "metadata": {},
     "output_type": "display_data"
    },
    {
     "name": "stdout",
     "output_type": "stream",
     "text": [
      "Train MSE  0.05759406089782715\n"
     ]
    },
    {
     "data": {
      "application/vnd.jupyter.widget-view+json": {
       "model_id": "e1f64bce62e24126881a024002f7784d",
       "version_major": 2,
       "version_minor": 0
      },
      "text/plain": [
       "  0%|          | 0/1 [00:00<?, ?it/s]"
      ]
     },
     "metadata": {},
     "output_type": "display_data"
    },
    {
     "name": "stdout",
     "output_type": "stream",
     "text": [
      "Val MSE  0.01732347160577774\n",
      "7\n"
     ]
    },
    {
     "data": {
      "application/vnd.jupyter.widget-view+json": {
       "model_id": "d08bad08d3d04d779b85dee89b0beb00",
       "version_major": 2,
       "version_minor": 0
      },
      "text/plain": [
       "  0%|          | 0/2 [00:00<?, ?it/s]"
      ]
     },
     "metadata": {},
     "output_type": "display_data"
    },
    {
     "name": "stdout",
     "output_type": "stream",
     "text": [
      "Train MSE  0.02974722906947136\n"
     ]
    },
    {
     "data": {
      "application/vnd.jupyter.widget-view+json": {
       "model_id": "44d50c0fea4e4f8bbe82a63fb3a89168",
       "version_major": 2,
       "version_minor": 0
      },
      "text/plain": [
       "  0%|          | 0/1 [00:00<?, ?it/s]"
      ]
     },
     "metadata": {},
     "output_type": "display_data"
    },
    {
     "name": "stdout",
     "output_type": "stream",
     "text": [
      "Val MSE  0.021210679784417152\n",
      "8\n"
     ]
    },
    {
     "data": {
      "application/vnd.jupyter.widget-view+json": {
       "model_id": "e8ad9919de4348cab548aeb9c6ca091b",
       "version_major": 2,
       "version_minor": 0
      },
      "text/plain": [
       "  0%|          | 0/2 [00:00<?, ?it/s]"
      ]
     },
     "metadata": {},
     "output_type": "display_data"
    },
    {
     "name": "stdout",
     "output_type": "stream",
     "text": [
      "Train MSE  0.01926545426249504\n"
     ]
    },
    {
     "data": {
      "application/vnd.jupyter.widget-view+json": {
       "model_id": "76f1cfa2e611452982519194cbff9ad0",
       "version_major": 2,
       "version_minor": 0
      },
      "text/plain": [
       "  0%|          | 0/1 [00:00<?, ?it/s]"
      ]
     },
     "metadata": {},
     "output_type": "display_data"
    },
    {
     "name": "stdout",
     "output_type": "stream",
     "text": [
      "Val MSE  0.03466133400797844\n",
      "9\n"
     ]
    },
    {
     "data": {
      "application/vnd.jupyter.widget-view+json": {
       "model_id": "5c8aee457f53455db9f22c18dda8523f",
       "version_major": 2,
       "version_minor": 0
      },
      "text/plain": [
       "  0%|          | 0/2 [00:00<?, ?it/s]"
      ]
     },
     "metadata": {},
     "output_type": "display_data"
    },
    {
     "name": "stdout",
     "output_type": "stream",
     "text": [
      "Train MSE  0.03238135948777199\n"
     ]
    },
    {
     "data": {
      "application/vnd.jupyter.widget-view+json": {
       "model_id": "a14cf52804554b8aa7a8c6747d9a5c5d",
       "version_major": 2,
       "version_minor": 0
      },
      "text/plain": [
       "  0%|          | 0/1 [00:00<?, ?it/s]"
      ]
     },
     "metadata": {},
     "output_type": "display_data"
    },
    {
     "name": "stdout",
     "output_type": "stream",
     "text": [
      "Val MSE  0.02894308976829052\n",
      "10\n"
     ]
    },
    {
     "data": {
      "application/vnd.jupyter.widget-view+json": {
       "model_id": "bce64f79abf34395a534cbe1898ce8f2",
       "version_major": 2,
       "version_minor": 0
      },
      "text/plain": [
       "  0%|          | 0/2 [00:00<?, ?it/s]"
      ]
     },
     "metadata": {},
     "output_type": "display_data"
    },
    {
     "name": "stdout",
     "output_type": "stream",
     "text": [
      "Train MSE  0.03833344578742981\n"
     ]
    },
    {
     "data": {
      "application/vnd.jupyter.widget-view+json": {
       "model_id": "42a142e02ba34164bc9c8f756c46a5ff",
       "version_major": 2,
       "version_minor": 0
      },
      "text/plain": [
       "  0%|          | 0/1 [00:00<?, ?it/s]"
      ]
     },
     "metadata": {},
     "output_type": "display_data"
    },
    {
     "name": "stdout",
     "output_type": "stream",
     "text": [
      "Val MSE  0.026595959439873695\n",
      "11\n"
     ]
    },
    {
     "data": {
      "application/vnd.jupyter.widget-view+json": {
       "model_id": "e664bf696bbb416b983ee356ecab1b0f",
       "version_major": 2,
       "version_minor": 0
      },
      "text/plain": [
       "  0%|          | 0/2 [00:00<?, ?it/s]"
      ]
     },
     "metadata": {},
     "output_type": "display_data"
    },
    {
     "name": "stdout",
     "output_type": "stream",
     "text": [
      "Train MSE  0.03595134615898132\n"
     ]
    },
    {
     "data": {
      "application/vnd.jupyter.widget-view+json": {
       "model_id": "62a9ba91903b4bb681671fe97dc41439",
       "version_major": 2,
       "version_minor": 0
      },
      "text/plain": [
       "  0%|          | 0/1 [00:00<?, ?it/s]"
      ]
     },
     "metadata": {},
     "output_type": "display_data"
    },
    {
     "name": "stdout",
     "output_type": "stream",
     "text": [
      "Val MSE  0.017785856500267982\n",
      "Early stopping after 11 epochs.\n",
      "[0.0932532548904419, 0.0762881338596344, 0.0784391462802887, 0.056257713586091995, 0.05496382713317871, 0.05759406089782715, 0.02974722906947136, 0.01926545426249504, 0.03238135948777199, 0.03833344578742981, 0.03595134615898132]\n",
      "[0.04447976499795914, 0.03178311884403229, 0.024256499484181404, 0.029212411493062973, 0.020342757925391197, 0.01732347160577774, 0.021210679784417152, 0.03466133400797844, 0.02894308976829052, 0.026595959439873695, 0.017785856500267982]\n"
     ]
    },
    {
     "data": {
      "image/png": "[encoded data removed]",
      "text/plain": [
       "<Figure size 640x480 with 1 Axes>"
      ]
     },
     "metadata": {},
     "output_type": "display_data"
    },
    {
     "name": "stdout",
     "output_type": "stream",
     "text": [
      "0.015171968970268488\n",
      "2\n",
      "1\n"
     ]
    },
    {
     "data": {
      "application/vnd.jupyter.widget-view+json": {
       "model_id": "6029e40511be41c28461f78d4d2282af",
       "version_major": 2,
       "version_minor": 0
      },
      "text/plain": [
       "  0%|          | 0/2 [00:00<?, ?it/s]"
      ]
     },
     "metadata": {},
     "output_type": "display_data"
    },
    {
     "name": "stderr",
     "output_type": "stream",
     "text": [
      "c:\\Users\\kjvf934\\repo\\ml_challenge\\.venv\\lib\\site-packages\\torch\\amp\\autocast_mode.py:250: UserWarning: User provided device_type of 'cuda', but CUDA is not available. Disabling\n",
      "  warnings.warn(\n"
     ]
    },
    {
     "name": "stdout",
     "output_type": "stream",
     "text": [
      "Train MSE  0.19519203901290894\n"
     ]
    },
    {
     "data": {
      "application/vnd.jupyter.widget-view+json": {
       "model_id": "ea537be1691e40588cf9dd1651db349d",
       "version_major": 2,
       "version_minor": 0
      },
      "text/plain": [
       "  0%|          | 0/1 [00:00<?, ?it/s]"
      ]
     },
     "metadata": {},
     "output_type": "display_data"
    },
    {
     "name": "stdout",
     "output_type": "stream",
     "text": [
      "Val MSE  1.5400009155273438\n",
      "2\n"
     ]
    },
    {
     "data": {
      "application/vnd.jupyter.widget-view+json": {
       "model_id": "17b5f6ecac334e47a9f14f84befc809a",
       "version_major": 2,
       "version_minor": 0
      },
      "text/plain": [
       "  0%|          | 0/2 [00:00<?, ?it/s]"
      ]
     },
     "metadata": {},
     "output_type": "display_data"
    },
    {
     "name": "stdout",
     "output_type": "stream",
     "text": [
      "Train MSE  0.3084622621536255\n"
     ]
    },
    {
     "data": {
      "application/vnd.jupyter.widget-view+json": {
       "model_id": "168ffa22bcc94ad9afb8a7e97c67d4ea",
       "version_major": 2,
       "version_minor": 0
      },
      "text/plain": [
       "  0%|          | 0/1 [00:00<?, ?it/s]"
      ]
     },
     "metadata": {},
     "output_type": "display_data"
    },
    {
     "name": "stdout",
     "output_type": "stream",
     "text": [
      "Val MSE  0.33155760169029236\n",
      "3\n"
     ]
    },
    {
     "data": {
      "application/vnd.jupyter.widget-view+json": {
       "model_id": "b4e2d946bc3144c185a049f8848ca464",
       "version_major": 2,
       "version_minor": 0
      },
      "text/plain": [
       "  0%|          | 0/2 [00:00<?, ?it/s]"
      ]
     },
     "metadata": {},
     "output_type": "display_data"
    },
    {
     "name": "stdout",
     "output_type": "stream",
     "text": [
      "Train MSE  0.4433344304561615\n"
     ]
    },
    {
     "data": {
      "application/vnd.jupyter.widget-view+json": {
       "model_id": "1c60e34e79c34d3ba0b61595402cd5a5",
       "version_major": 2,
       "version_minor": 0
      },
      "text/plain": [
       "  0%|          | 0/1 [00:00<?, ?it/s]"
      ]
     },
     "metadata": {},
     "output_type": "display_data"
    },
    {
     "name": "stdout",
     "output_type": "stream",
     "text": [
      "Val MSE  0.4551524221897125\n",
      "4\n"
     ]
    },
    {
     "data": {
      "application/vnd.jupyter.widget-view+json": {
       "model_id": "dbddc552f49e45fcaa51e703f6e81e25",
       "version_major": 2,
       "version_minor": 0
      },
      "text/plain": [
       "  0%|          | 0/2 [00:00<?, ?it/s]"
      ]
     },
     "metadata": {},
     "output_type": "display_data"
    },
    {
     "name": "stdout",
     "output_type": "stream",
     "text": [
      "Train MSE  0.36984726786613464\n"
     ]
    },
    {
     "data": {
      "application/vnd.jupyter.widget-view+json": {
       "model_id": "4d00501188c6429184d0094c3235fae6",
       "version_major": 2,
       "version_minor": 0
      },
      "text/plain": [
       "  0%|          | 0/1 [00:00<?, ?it/s]"
      ]
     },
     "metadata": {},
     "output_type": "display_data"
    },
    {
     "name": "stdout",
     "output_type": "stream",
     "text": [
      "Val MSE  0.32963985204696655\n",
      "5\n"
     ]
    },
    {
     "data": {
      "application/vnd.jupyter.widget-view+json": {
       "model_id": "f333397e361e4093ae56ad17c67c40e6",
       "version_major": 2,
       "version_minor": 0
      },
      "text/plain": [
       "  0%|          | 0/2 [00:00<?, ?it/s]"
      ]
     },
     "metadata": {},
     "output_type": "display_data"
    },
    {
     "name": "stdout",
     "output_type": "stream",
     "text": [
      "Train MSE  0.2540809214115143\n"
     ]
    },
    {
     "data": {
      "application/vnd.jupyter.widget-view+json": {
       "model_id": "f22c31cf105443eca4ab95ca9cba21ba",
       "version_major": 2,
       "version_minor": 0
      },
      "text/plain": [
       "  0%|          | 0/1 [00:00<?, ?it/s]"
      ]
     },
     "metadata": {},
     "output_type": "display_data"
    },
    {
     "name": "stdout",
     "output_type": "stream",
     "text": [
      "Val MSE  0.12336502969264984\n",
      "6\n"
     ]
    },
    {
     "data": {
      "application/vnd.jupyter.widget-view+json": {
       "model_id": "9f753c8ef276416bb01ebec0daa7ec60",
       "version_major": 2,
       "version_minor": 0
      },
      "text/plain": [
       "  0%|          | 0/2 [00:00<?, ?it/s]"
      ]
     },
     "metadata": {},
     "output_type": "display_data"
    },
    {
     "name": "stdout",
     "output_type": "stream",
     "text": [
      "Train MSE  0.19407539069652557\n"
     ]
    },
    {
     "data": {
      "application/vnd.jupyter.widget-view+json": {
       "model_id": "134b6081b2f44ae7825643f141a2332d",
       "version_major": 2,
       "version_minor": 0
      },
      "text/plain": [
       "  0%|          | 0/1 [00:00<?, ?it/s]"
      ]
     },
     "metadata": {},
     "output_type": "display_data"
    },
    {
     "name": "stdout",
     "output_type": "stream",
     "text": [
      "Val MSE  0.19716647267341614\n",
      "7\n"
     ]
    },
    {
     "data": {
      "application/vnd.jupyter.widget-view+json": {
       "model_id": "597be5f231d847b39d9137917dbbed7c",
       "version_major": 2,
       "version_minor": 0
      },
      "text/plain": [
       "  0%|          | 0/2 [00:00<?, ?it/s]"
      ]
     },
     "metadata": {},
     "output_type": "display_data"
    },
    {
     "name": "stdout",
     "output_type": "stream",
     "text": [
      "Train MSE  0.2077920287847519\n"
     ]
    },
    {
     "data": {
      "application/vnd.jupyter.widget-view+json": {
       "model_id": "52018db22b164fd6a8f30595e9bb9b9f",
       "version_major": 2,
       "version_minor": 0
      },
      "text/plain": [
       "  0%|          | 0/1 [00:00<?, ?it/s]"
      ]
     },
     "metadata": {},
     "output_type": "display_data"
    },
    {
     "name": "stdout",
     "output_type": "stream",
     "text": [
      "Val MSE  0.21351225674152374\n",
      "8\n"
     ]
    },
    {
     "data": {
      "application/vnd.jupyter.widget-view+json": {
       "model_id": "d8920e1e9a9a4f3392e49cd92ee269e6",
       "version_major": 2,
       "version_minor": 0
      },
      "text/plain": [
       "  0%|          | 0/2 [00:00<?, ?it/s]"
      ]
     },
     "metadata": {},
     "output_type": "display_data"
    },
    {
     "name": "stdout",
     "output_type": "stream",
     "text": [
      "Train MSE  0.24554836750030518\n"
     ]
    },
    {
     "data": {
      "application/vnd.jupyter.widget-view+json": {
       "model_id": "9c4efb701a6f4905a4c850258a1e97b5",
       "version_major": 2,
       "version_minor": 0
      },
      "text/plain": [
       "  0%|          | 0/1 [00:00<?, ?it/s]"
      ]
     },
     "metadata": {},
     "output_type": "display_data"
    },
    {
     "name": "stdout",
     "output_type": "stream",
     "text": [
      "Val MSE  0.14783361554145813\n",
      "9\n"
     ]
    },
    {
     "data": {
      "application/vnd.jupyter.widget-view+json": {
       "model_id": "c4d31efd6dc248ea8ddf4c29baf5dca4",
       "version_major": 2,
       "version_minor": 0
      },
      "text/plain": [
       "  0%|          | 0/2 [00:00<?, ?it/s]"
      ]
     },
     "metadata": {},
     "output_type": "display_data"
    },
    {
     "name": "stdout",
     "output_type": "stream",
     "text": [
      "Train MSE  0.09403587132692337\n"
     ]
    },
    {
     "data": {
      "application/vnd.jupyter.widget-view+json": {
       "model_id": "781b4d245eaa454aa0c43cd1572ae138",
       "version_major": 2,
       "version_minor": 0
      },
      "text/plain": [
       "  0%|          | 0/1 [00:00<?, ?it/s]"
      ]
     },
     "metadata": {},
     "output_type": "display_data"
    },
    {
     "name": "stdout",
     "output_type": "stream",
     "text": [
      "Val MSE  0.17322386801242828\n",
      "10\n"
     ]
    },
    {
     "data": {
      "application/vnd.jupyter.widget-view+json": {
       "model_id": "bee15ace3ac34bb29a92ba651e8fb827",
       "version_major": 2,
       "version_minor": 0
      },
      "text/plain": [
       "  0%|          | 0/2 [00:00<?, ?it/s]"
      ]
     },
     "metadata": {},
     "output_type": "display_data"
    },
    {
     "name": "stdout",
     "output_type": "stream",
     "text": [
      "Train MSE  0.18087534606456757\n"
     ]
    },
    {
     "data": {
      "application/vnd.jupyter.widget-view+json": {
       "model_id": "c898cc3432904491808521a8cae96c60",
       "version_major": 2,
       "version_minor": 0
      },
      "text/plain": [
       "  0%|          | 0/1 [00:00<?, ?it/s]"
      ]
     },
     "metadata": {},
     "output_type": "display_data"
    },
    {
     "name": "stdout",
     "output_type": "stream",
     "text": [
      "Val MSE  0.21976777911186218\n",
      "Early stopping after 10 epochs.\n",
      "[0.19519203901290894, 0.3084622621536255, 0.4433344304561615, 0.36984726786613464, 0.2540809214115143, 0.19407539069652557, 0.2077920287847519, 0.24554836750030518, 0.09403587132692337, 0.18087534606456757]\n",
      "[1.5400009155273438, 0.33155760169029236, 0.4551524221897125, 0.32963985204696655, 0.12336502969264984, 0.19716647267341614, 0.21351225674152374, 0.14783361554145813, 0.17322386801242828, 0.21976777911186218]\n"
     ]
    },
    {
     "data": {
      "image/png": "[encoded data removed]",
      "text/plain": [
       "<Figure size 640x480 with 1 Axes>"
      ]
     },
     "metadata": {},
     "output_type": "display_data"
    },
    {
     "name": "stdout",
     "output_type": "stream",
     "text": [
      "0.14274025830477777\n",
      "3\n",
      "1\n"
     ]
    },
    {
     "data": {
      "application/vnd.jupyter.widget-view+json": {
       "model_id": "b4f96a5a5a2e4314af7852ac2ad1adf0",
       "version_major": 2,
       "version_minor": 0
      },
      "text/plain": [
       "  0%|          | 0/2 [00:00<?, ?it/s]"
      ]
     },
     "metadata": {},
     "output_type": "display_data"
    },
    {
     "name": "stderr",
     "output_type": "stream",
     "text": [
      "c:\\Users\\kjvf934\\repo\\ml_challenge\\.venv\\lib\\site-packages\\torch\\amp\\autocast_mode.py:250: UserWarning: User provided device_type of 'cuda', but CUDA is not available. Disabling\n",
      "  warnings.warn(\n"
     ]
    },
    {
     "name": "stdout",
     "output_type": "stream",
     "text": [
      "Train MSE  0.3094146251678467\n"
     ]
    },
    {
     "data": {
      "application/vnd.jupyter.widget-view+json": {
       "model_id": "f36d270e8c9c4ab1813280046af96f19",
       "version_major": 2,
       "version_minor": 0
      },
      "text/plain": [
       "  0%|          | 0/1 [00:00<?, ?it/s]"
      ]
     },
     "metadata": {},
     "output_type": "display_data"
    },
    {
     "name": "stdout",
     "output_type": "stream",
     "text": [
      "Val MSE  0.06498745828866959\n",
      "2\n"
     ]
    },
    {
     "data": {
      "application/vnd.jupyter.widget-view+json": {
       "model_id": "494b092d577f43fdb7177e87a0885433",
       "version_major": 2,
       "version_minor": 0
      },
      "text/plain": [
       "  0%|          | 0/2 [00:00<?, ?it/s]"
      ]
     },
     "metadata": {},
     "output_type": "display_data"
    },
    {
     "name": "stdout",
     "output_type": "stream",
     "text": [
      "Train MSE  0.10527124255895615\n"
     ]
    },
    {
     "data": {
      "application/vnd.jupyter.widget-view+json": {
       "model_id": "0323fd9dc23a4fc3863601bd9e9c3f0d",
       "version_major": 2,
       "version_minor": 0
      },
      "text/plain": [
       "  0%|          | 0/1 [00:00<?, ?it/s]"
      ]
     },
     "metadata": {},
     "output_type": "display_data"
    },
    {
     "name": "stdout",
     "output_type": "stream",
     "text": [
      "Val MSE  0.09023437649011612\n",
      "3\n"
     ]
    },
    {
     "data": {
      "application/vnd.jupyter.widget-view+json": {
       "model_id": "2cf846f0494247bc815c13a5576b6594",
       "version_major": 2,
       "version_minor": 0
      },
      "text/plain": [
       "  0%|          | 0/2 [00:00<?, ?it/s]"
      ]
     },
     "metadata": {},
     "output_type": "display_data"
    },
    {
     "name": "stdout",
     "output_type": "stream",
     "text": [
      "Train MSE  0.06613739579916\n"
     ]
    },
    {
     "data": {
      "application/vnd.jupyter.widget-view+json": {
       "model_id": "797eca9ed2074ff4ba7c357b6a254568",
       "version_major": 2,
       "version_minor": 0
      },
      "text/plain": [
       "  0%|          | 0/1 [00:00<?, ?it/s]"
      ]
     },
     "metadata": {},
     "output_type": "display_data"
    },
    {
     "name": "stdout",
     "output_type": "stream",
     "text": [
      "Val MSE  0.07057671248912811\n",
      "4\n"
     ]
    },
    {
     "data": {
      "application/vnd.jupyter.widget-view+json": {
       "model_id": "480cf6d6f5f34a62a00e75491d766bba",
       "version_major": 2,
       "version_minor": 0
      },
      "text/plain": [
       "  0%|          | 0/2 [00:00<?, ?it/s]"
      ]
     },
     "metadata": {},
     "output_type": "display_data"
    },
    {
     "name": "stdout",
     "output_type": "stream",
     "text": [
      "Train MSE  0.09880604594945908\n"
     ]
    },
    {
     "data": {
      "application/vnd.jupyter.widget-view+json": {
       "model_id": "161e6c9fa4eb4400971679a1c62e8237",
       "version_major": 2,
       "version_minor": 0
      },
      "text/plain": [
       "  0%|          | 0/1 [00:00<?, ?it/s]"
      ]
     },
     "metadata": {},
     "output_type": "display_data"
    },
    {
     "name": "stdout",
     "output_type": "stream",
     "text": [
      "Val MSE  0.03814822807908058\n",
      "5\n"
     ]
    },
    {
     "data": {
      "application/vnd.jupyter.widget-view+json": {
       "model_id": "4b635dfba1b540d7bd252f601848543a",
       "version_major": 2,
       "version_minor": 0
      },
      "text/plain": [
       "  0%|          | 0/2 [00:00<?, ?it/s]"
      ]
     },
     "metadata": {},
     "output_type": "display_data"
    },
    {
     "name": "stdout",
     "output_type": "stream",
     "text": [
      "Train MSE  0.06487004458904266\n"
     ]
    },
    {
     "data": {
      "application/vnd.jupyter.widget-view+json": {
       "model_id": "c3e7bd1485524da786addfe76bd6523c",
       "version_major": 2,
       "version_minor": 0
      },
      "text/plain": [
       "  0%|          | 0/1 [00:00<?, ?it/s]"
      ]
     },
     "metadata": {},
     "output_type": "display_data"
    },
    {
     "name": "stdout",
     "output_type": "stream",
     "text": [
      "Val MSE  0.06168949231505394\n",
      "6\n"
     ]
    },
    {
     "data": {
      "application/vnd.jupyter.widget-view+json": {
       "model_id": "bfec38751a2f436889193ec8dc3e794b",
       "version_major": 2,
       "version_minor": 0
      },
      "text/plain": [
       "  0%|          | 0/2 [00:00<?, ?it/s]"
      ]
     },
     "metadata": {},
     "output_type": "display_data"
    },
    {
     "name": "stdout",
     "output_type": "stream",
     "text": [
      "Train MSE  0.07344537228345871\n"
     ]
    },
    {
     "data": {
      "application/vnd.jupyter.widget-view+json": {
       "model_id": "e2bed70e178841f6bf294b739a2f3522",
       "version_major": 2,
       "version_minor": 0
      },
      "text/plain": [
       "  0%|          | 0/1 [00:00<?, ?it/s]"
      ]
     },
     "metadata": {},
     "output_type": "display_data"
    },
    {
     "name": "stdout",
     "output_type": "stream",
     "text": [
      "Val MSE  0.04953809082508087\n",
      "7\n"
     ]
    },
    {
     "data": {
      "application/vnd.jupyter.widget-view+json": {
       "model_id": "a8cc200b0e1e4555b6af28386d4f590d",
       "version_major": 2,
       "version_minor": 0
      },
      "text/plain": [
       "  0%|          | 0/2 [00:00<?, ?it/s]"
      ]
     },
     "metadata": {},
     "output_type": "display_data"
    },
    {
     "name": "stdout",
     "output_type": "stream",
     "text": [
      "Train MSE  0.06663989275693893\n"
     ]
    },
    {
     "data": {
      "application/vnd.jupyter.widget-view+json": {
       "model_id": "898d5e0fb51e4b29a75603f4e4a19912",
       "version_major": 2,
       "version_minor": 0
      },
      "text/plain": [
       "  0%|          | 0/1 [00:00<?, ?it/s]"
      ]
     },
     "metadata": {},
     "output_type": "display_data"
    },
    {
     "name": "stdout",
     "output_type": "stream",
     "text": [
      "Val MSE  0.03799865394830704\n",
      "8\n"
     ]
    },
    {
     "data": {
      "application/vnd.jupyter.widget-view+json": {
       "model_id": "b599737a10634c85ac87662e8da4fcb2",
       "version_major": 2,
       "version_minor": 0
      },
      "text/plain": [
       "  0%|          | 0/2 [00:00<?, ?it/s]"
      ]
     },
     "metadata": {},
     "output_type": "display_data"
    },
    {
     "name": "stdout",
     "output_type": "stream",
     "text": [
      "Train MSE  0.05678405612707138\n"
     ]
    },
    {
     "data": {
      "application/vnd.jupyter.widget-view+json": {
       "model_id": "3c49bcbf6a264fc98e83a6075eaf73e2",
       "version_major": 2,
       "version_minor": 0
      },
      "text/plain": [
       "  0%|          | 0/1 [00:00<?, ?it/s]"
      ]
     },
     "metadata": {},
     "output_type": "display_data"
    },
    {
     "name": "stdout",
     "output_type": "stream",
     "text": [
      "Val MSE  0.04694312438368797\n",
      "9\n"
     ]
    },
    {
     "data": {
      "application/vnd.jupyter.widget-view+json": {
       "model_id": "34cb2b4f71724fa6adf1ba922631a9f7",
       "version_major": 2,
       "version_minor": 0
      },
      "text/plain": [
       "  0%|          | 0/2 [00:00<?, ?it/s]"
      ]
     },
     "metadata": {},
     "output_type": "display_data"
    },
    {
     "name": "stdout",
     "output_type": "stream",
     "text": [
      "Train MSE  0.05558830127120018\n"
     ]
    },
    {
     "data": {
      "application/vnd.jupyter.widget-view+json": {
       "model_id": "84ccee7401ef4bf599a340ef9c871fed",
       "version_major": 2,
       "version_minor": 0
      },
      "text/plain": [
       "  0%|          | 0/1 [00:00<?, ?it/s]"
      ]
     },
     "metadata": {},
     "output_type": "display_data"
    },
    {
     "name": "stdout",
     "output_type": "stream",
     "text": [
      "Val MSE  0.02403569035232067\n",
      "10\n"
     ]
    },
    {
     "data": {
      "application/vnd.jupyter.widget-view+json": {
       "model_id": "9ce45ebe5c504b5c86206ab6106bdbf2",
       "version_major": 2,
       "version_minor": 0
      },
      "text/plain": [
       "  0%|          | 0/2 [00:00<?, ?it/s]"
      ]
     },
     "metadata": {},
     "output_type": "display_data"
    },
    {
     "name": "stdout",
     "output_type": "stream",
     "text": [
      "Train MSE  0.05785202980041504\n"
     ]
    },
    {
     "data": {
      "application/vnd.jupyter.widget-view+json": {
       "model_id": "f0bb12c2da2749af8f48f91a297cf902",
       "version_major": 2,
       "version_minor": 0
      },
      "text/plain": [
       "  0%|          | 0/1 [00:00<?, ?it/s]"
      ]
     },
     "metadata": {},
     "output_type": "display_data"
    },
    {
     "name": "stdout",
     "output_type": "stream",
     "text": [
      "Val MSE  0.03900889679789543\n",
      "11\n"
     ]
    },
    {
     "data": {
      "application/vnd.jupyter.widget-view+json": {
       "model_id": "1898ecdaf109484eb11ce1ef7fa13d70",
       "version_major": 2,
       "version_minor": 0
      },
      "text/plain": [
       "  0%|          | 0/2 [00:00<?, ?it/s]"
      ]
     },
     "metadata": {},
     "output_type": "display_data"
    },
    {
     "name": "stdout",
     "output_type": "stream",
     "text": [
      "Train MSE  0.02816551737487316\n"
     ]
    },
    {
     "data": {
      "application/vnd.jupyter.widget-view+json": {
       "model_id": "13abc80f8f1c484badba783f4051d0ab",
       "version_major": 2,
       "version_minor": 0
      },
      "text/plain": [
       "  0%|          | 0/1 [00:00<?, ?it/s]"
      ]
     },
     "metadata": {},
     "output_type": "display_data"
    },
    {
     "name": "stdout",
     "output_type": "stream",
     "text": [
      "Val MSE  0.04735184833407402\n",
      "12\n"
     ]
    },
    {
     "data": {
      "application/vnd.jupyter.widget-view+json": {
       "model_id": "8e1445c0ea81446ebc4d3e47ff411d26",
       "version_major": 2,
       "version_minor": 0
      },
      "text/plain": [
       "  0%|          | 0/2 [00:00<?, ?it/s]"
      ]
     },
     "metadata": {},
     "output_type": "display_data"
    },
    {
     "name": "stdout",
     "output_type": "stream",
     "text": [
      "Train MSE  0.05678027123212814\n"
     ]
    },
    {
     "data": {
      "application/vnd.jupyter.widget-view+json": {
       "model_id": "e9e850e6e6cf4f89bbc35a90429ad54b",
       "version_major": 2,
       "version_minor": 0
      },
      "text/plain": [
       "  0%|          | 0/1 [00:00<?, ?it/s]"
      ]
     },
     "metadata": {},
     "output_type": "display_data"
    },
    {
     "name": "stdout",
     "output_type": "stream",
     "text": [
      "Val MSE  0.06495646387338638\n",
      "13\n"
     ]
    },
    {
     "data": {
      "application/vnd.jupyter.widget-view+json": {
       "model_id": "c7826dbff4c54e08afe21215132daef2",
       "version_major": 2,
       "version_minor": 0
      },
      "text/plain": [
       "  0%|          | 0/2 [00:00<?, ?it/s]"
      ]
     },
     "metadata": {},
     "output_type": "display_data"
    },
    {
     "name": "stdout",
     "output_type": "stream",
     "text": [
      "Train MSE  0.0492607019841671\n"
     ]
    },
    {
     "data": {
      "application/vnd.jupyter.widget-view+json": {
       "model_id": "2a2622993f4d4ecc86efae59e98a7b16",
       "version_major": 2,
       "version_minor": 0
      },
      "text/plain": [
       "  0%|          | 0/1 [00:00<?, ?it/s]"
      ]
     },
     "metadata": {},
     "output_type": "display_data"
    },
    {
     "name": "stdout",
     "output_type": "stream",
     "text": [
      "Val MSE  0.028276080265641212\n",
      "14\n"
     ]
    },
    {
     "data": {
      "application/vnd.jupyter.widget-view+json": {
       "model_id": "e8d63e904cbb471193b82ee8ba243de0",
       "version_major": 2,
       "version_minor": 0
      },
      "text/plain": [
       "  0%|          | 0/2 [00:00<?, ?it/s]"
      ]
     },
     "metadata": {},
     "output_type": "display_data"
    },
    {
     "name": "stdout",
     "output_type": "stream",
     "text": [
      "Train MSE  0.03886917978525162\n"
     ]
    },
    {
     "data": {
      "application/vnd.jupyter.widget-view+json": {
       "model_id": "ddad1360a2ed4dc39ec27fdfcd6630bc",
       "version_major": 2,
       "version_minor": 0
      },
      "text/plain": [
       "  0%|          | 0/1 [00:00<?, ?it/s]"
      ]
     },
     "metadata": {},
     "output_type": "display_data"
    },
    {
     "name": "stdout",
     "output_type": "stream",
     "text": [
      "Val MSE  0.030941521748900414\n",
      "Early stopping after 14 epochs.\n",
      "[0.3094146251678467, 0.10527124255895615, 0.06613739579916, 0.09880604594945908, 0.06487004458904266, 0.07344537228345871, 0.06663989275693893, 0.05678405612707138, 0.05558830127120018, 0.05785202980041504, 0.02816551737487316, 0.05678027123212814, 0.0492607019841671, 0.03886917978525162]\n",
      "[0.06498745828866959, 0.09023437649011612, 0.07057671248912811, 0.03814822807908058, 0.06168949231505394, 0.04953809082508087, 0.03799865394830704, 0.04694312438368797, 0.02403569035232067, 0.03900889679789543, 0.04735184833407402, 0.06495646387338638, 0.028276080265641212, 0.030941521748900414]\n"
     ]
    },
    {
     "data": {
      "image/png": "[encoded data removed]",
      "text/plain": [
       "<Figure size 640x480 with 1 Axes>"
      ]
     },
     "metadata": {},
     "output_type": "display_data"
    },
    {
     "name": "stdout",
     "output_type": "stream",
     "text": [
      "0.020451821721709014\n",
      "4\n",
      "1\n"
     ]
    },
    {
     "data": {
      "application/vnd.jupyter.widget-view+json": {
       "model_id": "35ff98dce8df4cd9b8c5b3b8d7a8fb89",
       "version_major": 2,
       "version_minor": 0
      },
      "text/plain": [
       "  0%|          | 0/2 [00:00<?, ?it/s]"
      ]
     },
     "metadata": {},
     "output_type": "display_data"
    },
    {
     "name": "stderr",
     "output_type": "stream",
     "text": [
      "c:\\Users\\kjvf934\\repo\\ml_challenge\\.venv\\lib\\site-packages\\torch\\amp\\autocast_mode.py:250: UserWarning: User provided device_type of 'cuda', but CUDA is not available. Disabling\n",
      "  warnings.warn(\n"
     ]
    },
    {
     "name": "stdout",
     "output_type": "stream",
     "text": [
      "Train MSE  0.06901122629642487\n"
     ]
    },
    {
     "data": {
      "application/vnd.jupyter.widget-view+json": {
       "model_id": "702fb3205f15467e8d5b469611f3b97d",
       "version_major": 2,
       "version_minor": 0
      },
      "text/plain": [
       "  0%|          | 0/1 [00:00<?, ?it/s]"
      ]
     },
     "metadata": {},
     "output_type": "display_data"
    },
    {
     "name": "stdout",
     "output_type": "stream",
     "text": [
      "Val MSE  0.2144453525543213\n",
      "2\n"
     ]
    },
    {
     "data": {
      "application/vnd.jupyter.widget-view+json": {
       "model_id": "a6af166a1fd54ec48eb75ecee29f1328",
       "version_major": 2,
       "version_minor": 0
      },
      "text/plain": [
       "  0%|          | 0/2 [00:00<?, ?it/s]"
      ]
     },
     "metadata": {},
     "output_type": "display_data"
    },
    {
     "name": "stdout",
     "output_type": "stream",
     "text": [
      "Train MSE  0.07446236163377762\n"
     ]
    },
    {
     "data": {
      "application/vnd.jupyter.widget-view+json": {
       "model_id": "ed3be60b86994d74b81c5e8be2705f47",
       "version_major": 2,
       "version_minor": 0
      },
      "text/plain": [
       "  0%|          | 0/1 [00:00<?, ?it/s]"
      ]
     },
     "metadata": {},
     "output_type": "display_data"
    },
    {
     "name": "stdout",
     "output_type": "stream",
     "text": [
      "Val MSE  0.14155182242393494\n",
      "3\n"
     ]
    },
    {
     "data": {
      "application/vnd.jupyter.widget-view+json": {
       "model_id": "605a840b54064bae9466dba0b5d5c631",
       "version_major": 2,
       "version_minor": 0
      },
      "text/plain": [
       "  0%|          | 0/2 [00:00<?, ?it/s]"
      ]
     },
     "metadata": {},
     "output_type": "display_data"
    },
    {
     "name": "stdout",
     "output_type": "stream",
     "text": [
      "Train MSE  0.1311371922492981\n"
     ]
    },
    {
     "data": {
      "application/vnd.jupyter.widget-view+json": {
       "model_id": "bb61b968907e4157b609787beafc51ca",
       "version_major": 2,
       "version_minor": 0
      },
      "text/plain": [
       "  0%|          | 0/1 [00:00<?, ?it/s]"
      ]
     },
     "metadata": {},
     "output_type": "display_data"
    },
    {
     "name": "stdout",
     "output_type": "stream",
     "text": [
      "Val MSE  0.11092288047075272\n",
      "4\n"
     ]
    },
    {
     "data": {
      "application/vnd.jupyter.widget-view+json": {
       "model_id": "68611caff581475f841140be787786ee",
       "version_major": 2,
       "version_minor": 0
      },
      "text/plain": [
       "  0%|          | 0/2 [00:00<?, ?it/s]"
      ]
     },
     "metadata": {},
     "output_type": "display_data"
    },
    {
     "name": "stdout",
     "output_type": "stream",
     "text": [
      "Train MSE  0.07479492574930191\n"
     ]
    },
    {
     "data": {
      "application/vnd.jupyter.widget-view+json": {
       "model_id": "31ec3dcb8c8848cfbee337370a8abbc6",
       "version_major": 2,
       "version_minor": 0
      },
      "text/plain": [
       "  0%|          | 0/1 [00:00<?, ?it/s]"
      ]
     },
     "metadata": {},
     "output_type": "display_data"
    },
    {
     "name": "stdout",
     "output_type": "stream",
     "text": [
      "Val MSE  0.06734684109687805\n",
      "5\n"
     ]
    },
    {
     "data": {
      "application/vnd.jupyter.widget-view+json": {
       "model_id": "4fd46346c64f45d4a5635bdf6aa3f7f6",
       "version_major": 2,
       "version_minor": 0
      },
      "text/plain": [
       "  0%|          | 0/2 [00:00<?, ?it/s]"
      ]
     },
     "metadata": {},
     "output_type": "display_data"
    },
    {
     "name": "stdout",
     "output_type": "stream",
     "text": [
      "Train MSE  0.09130537509918213\n"
     ]
    },
    {
     "data": {
      "application/vnd.jupyter.widget-view+json": {
       "model_id": "f893e083bd8e4d9bae0b9f3024fe135b",
       "version_major": 2,
       "version_minor": 0
      },
      "text/plain": [
       "  0%|          | 0/1 [00:00<?, ?it/s]"
      ]
     },
     "metadata": {},
     "output_type": "display_data"
    },
    {
     "name": "stdout",
     "output_type": "stream",
     "text": [
      "Val MSE  0.08986541628837585\n",
      "6\n"
     ]
    },
    {
     "data": {
      "application/vnd.jupyter.widget-view+json": {
       "model_id": "201bfef2caf843d6a9653dcc79e0de9d",
       "version_major": 2,
       "version_minor": 0
      },
      "text/plain": [
       "  0%|          | 0/2 [00:00<?, ?it/s]"
      ]
     },
     "metadata": {},
     "output_type": "display_data"
    },
    {
     "name": "stdout",
     "output_type": "stream",
     "text": [
      "Train MSE  0.0441875122487545\n"
     ]
    },
    {
     "data": {
      "application/vnd.jupyter.widget-view+json": {
       "model_id": "c4b87b5120a1437b98e2e2f5bfaef149",
       "version_major": 2,
       "version_minor": 0
      },
      "text/plain": [
       "  0%|          | 0/1 [00:00<?, ?it/s]"
      ]
     },
     "metadata": {},
     "output_type": "display_data"
    },
    {
     "name": "stdout",
     "output_type": "stream",
     "text": [
      "Val MSE  0.10922659933567047\n",
      "7\n"
     ]
    },
    {
     "data": {
      "application/vnd.jupyter.widget-view+json": {
       "model_id": "cdfa6f39892b4377a0439e9bb2301572",
       "version_major": 2,
       "version_minor": 0
      },
      "text/plain": [
       "  0%|          | 0/2 [00:00<?, ?it/s]"
      ]
     },
     "metadata": {},
     "output_type": "display_data"
    },
    {
     "name": "stdout",
     "output_type": "stream",
     "text": [
      "Train MSE  0.06463812291622162\n"
     ]
    },
    {
     "data": {
      "application/vnd.jupyter.widget-view+json": {
       "model_id": "4519a07772cb406189ac476d4ba3bd97",
       "version_major": 2,
       "version_minor": 0
      },
      "text/plain": [
       "  0%|          | 0/1 [00:00<?, ?it/s]"
      ]
     },
     "metadata": {},
     "output_type": "display_data"
    },
    {
     "name": "stdout",
     "output_type": "stream",
     "text": [
      "Val MSE  0.06185051426291466\n",
      "8\n"
     ]
    },
    {
     "data": {
      "application/vnd.jupyter.widget-view+json": {
       "model_id": "cec57693b5b846a7a02747c63c4eac4e",
       "version_major": 2,
       "version_minor": 0
      },
      "text/plain": [
       "  0%|          | 0/2 [00:00<?, ?it/s]"
      ]
     },
     "metadata": {},
     "output_type": "display_data"
    },
    {
     "name": "stdout",
     "output_type": "stream",
     "text": [
      "Train MSE  0.0722515732049942\n"
     ]
    },
    {
     "data": {
      "application/vnd.jupyter.widget-view+json": {
       "model_id": "ecd2f531557342a3963900c4406f568d",
       "version_major": 2,
       "version_minor": 0
      },
      "text/plain": [
       "  0%|          | 0/1 [00:00<?, ?it/s]"
      ]
     },
     "metadata": {},
     "output_type": "display_data"
    },
    {
     "name": "stdout",
     "output_type": "stream",
     "text": [
      "Val MSE  0.03973512351512909\n",
      "9\n"
     ]
    },
    {
     "data": {
      "application/vnd.jupyter.widget-view+json": {
       "model_id": "f7a48b4e30fe4344a139a47f44f7e23e",
       "version_major": 2,
       "version_minor": 0
      },
      "text/plain": [
       "  0%|          | 0/2 [00:00<?, ?it/s]"
      ]
     },
     "metadata": {},
     "output_type": "display_data"
    },
    {
     "name": "stdout",
     "output_type": "stream",
     "text": [
      "Train MSE  0.05544707551598549\n"
     ]
    },
    {
     "data": {
      "application/vnd.jupyter.widget-view+json": {
       "model_id": "6c1a513f897b49679a8a2d9260141f08",
       "version_major": 2,
       "version_minor": 0
      },
      "text/plain": [
       "  0%|          | 0/1 [00:00<?, ?it/s]"
      ]
     },
     "metadata": {},
     "output_type": "display_data"
    },
    {
     "name": "stdout",
     "output_type": "stream",
     "text": [
      "Val MSE  0.06195918098092079\n",
      "10\n"
     ]
    },
    {
     "data": {
      "application/vnd.jupyter.widget-view+json": {
       "model_id": "d6c3f43d613a43ff96694d2831de4e81",
       "version_major": 2,
       "version_minor": 0
      },
      "text/plain": [
       "  0%|          | 0/2 [00:00<?, ?it/s]"
      ]
     },
     "metadata": {},
     "output_type": "display_data"
    },
    {
     "name": "stdout",
     "output_type": "stream",
     "text": [
      "Train MSE  0.035833939909935\n"
     ]
    },
    {
     "data": {
      "application/vnd.jupyter.widget-view+json": {
       "model_id": "802a222593604614940b75c1c04dfd2a",
       "version_major": 2,
       "version_minor": 0
      },
      "text/plain": [
       "  0%|          | 0/1 [00:00<?, ?it/s]"
      ]
     },
     "metadata": {},
     "output_type": "display_data"
    },
    {
     "name": "stdout",
     "output_type": "stream",
     "text": [
      "Val MSE  0.053216319531202316\n",
      "11\n"
     ]
    },
    {
     "data": {
      "application/vnd.jupyter.widget-view+json": {
       "model_id": "efc380f7f5504edca394dd8cc111de01",
       "version_major": 2,
       "version_minor": 0
      },
      "text/plain": [
       "  0%|          | 0/2 [00:00<?, ?it/s]"
      ]
     },
     "metadata": {},
     "output_type": "display_data"
    },
    {
     "name": "stdout",
     "output_type": "stream",
     "text": [
      "Train MSE  0.07194562256336212\n"
     ]
    },
    {
     "data": {
      "application/vnd.jupyter.widget-view+json": {
       "model_id": "88f2c09ac8e44c7a9348c7a4e7ab0110",
       "version_major": 2,
       "version_minor": 0
      },
      "text/plain": [
       "  0%|          | 0/1 [00:00<?, ?it/s]"
      ]
     },
     "metadata": {},
     "output_type": "display_data"
    },
    {
     "name": "stdout",
     "output_type": "stream",
     "text": [
      "Val MSE  0.07910887897014618\n",
      "12\n"
     ]
    },
    {
     "data": {
      "application/vnd.jupyter.widget-view+json": {
       "model_id": "c57e539e436b4aec9bf5f399777ef605",
       "version_major": 2,
       "version_minor": 0
      },
      "text/plain": [
       "  0%|          | 0/2 [00:00<?, ?it/s]"
      ]
     },
     "metadata": {},
     "output_type": "display_data"
    },
    {
     "name": "stdout",
     "output_type": "stream",
     "text": [
      "Train MSE  0.05153621733188629\n"
     ]
    },
    {
     "data": {
      "application/vnd.jupyter.widget-view+json": {
       "model_id": "f4bc515a99844336977f92b198caff4d",
       "version_major": 2,
       "version_minor": 0
      },
      "text/plain": [
       "  0%|          | 0/1 [00:00<?, ?it/s]"
      ]
     },
     "metadata": {},
     "output_type": "display_data"
    },
    {
     "name": "stdout",
     "output_type": "stream",
     "text": [
      "Val MSE  0.0534563884139061\n",
      "13\n"
     ]
    },
    {
     "data": {
      "application/vnd.jupyter.widget-view+json": {
       "model_id": "11e100271b6248cb8810c0d8b51870ca",
       "version_major": 2,
       "version_minor": 0
      },
      "text/plain": [
       "  0%|          | 0/2 [00:00<?, ?it/s]"
      ]
     },
     "metadata": {},
     "output_type": "display_data"
    },
    {
     "name": "stdout",
     "output_type": "stream",
     "text": [
      "Train MSE  0.05711100623011589\n"
     ]
    },
    {
     "data": {
      "application/vnd.jupyter.widget-view+json": {
       "model_id": "cd53ed7cf9a349e6b57d43f581c7d114",
       "version_major": 2,
       "version_minor": 0
      },
      "text/plain": [
       "  0%|          | 0/1 [00:00<?, ?it/s]"
      ]
     },
     "metadata": {},
     "output_type": "display_data"
    },
    {
     "name": "stdout",
     "output_type": "stream",
     "text": [
      "Val MSE  0.07747550308704376\n",
      "Early stopping after 13 epochs.\n",
      "[0.06901122629642487, 0.07446236163377762, 0.1311371922492981, 0.07479492574930191, 0.09130537509918213, 0.0441875122487545, 0.06463812291622162, 0.0722515732049942, 0.05544707551598549, 0.035833939909935, 0.07194562256336212, 0.05153621733188629, 0.05711100623011589]\n",
      "[0.2144453525543213, 0.14155182242393494, 0.11092288047075272, 0.06734684109687805, 0.08986541628837585, 0.10922659933567047, 0.06185051426291466, 0.03973512351512909, 0.06195918098092079, 0.053216319531202316, 0.07910887897014618, 0.0534563884139061, 0.07747550308704376]\n"
     ]
    },
    {
     "data": {
      "image/png": "[encoded data removed]",
      "text/plain": [
       "<Figure size 640x480 with 1 Axes>"
      ]
     },
     "metadata": {},
     "output_type": "display_data"
    },
    {
     "name": "stdout",
     "output_type": "stream",
     "text": [
      "0.03222385880989204\n",
      "[0.014783362282450165, 0.015171968970268488, 0.14274025830477777, 0.020451821721709014, 0.03222385880989204]\n",
      "Cross Validation time:  26.634354829788208\n"
     ]
    }
   ],
   "source": [
    "#\n",
    "start = time.time()\n",
    "train.train_with_cv(train.ThermoNetTrainer,x_train, y_train_norm, cv=5, no_epochs=30, lr=0.001,)\n",
    "print('Cross Validation time: ', time.time() - start)\n"
   ]
  },
  {
   "attachments": {},
   "cell_type": "markdown",
   "id": "9728969e",
   "metadata": {},
   "source": [
    "The model seems to generalize well, the performance from cross validation is comparable to ridge's (slightly worse in this case) - lets see performance on the test set, if it keeps up"
   ]
  },
  {
   "cell_type": "code",
   "execution_count": 58,
   "id": "ff31dca0-45f7-40d1-a698-7bbcadb28ecd",
   "metadata": {
    "scrolled": true
   },
   "outputs": [
    {
     "data": {
      "application/vnd.jupyter.widget-view+json": {
       "model_id": "d0f91c9520a24c2480e24446151202ba",
       "version_major": 2,
       "version_minor": 0
      },
      "text/plain": [
       "  0%|          | 0/2 [00:00<?, ?it/s]"
      ]
     },
     "metadata": {},
     "output_type": "display_data"
    },
    {
     "name": "stdout",
     "output_type": "stream",
     "text": [
      "0.010686542\n",
      "0.5690525839132601\n"
     ]
    }
   ],
   "source": [
    "test_dataset = data.SequenceDataset(x_test, y_test_norm)\n",
    "\n",
    "test_dataloader = DataLoader(test_dataset, batch_size=32)\n",
    "\n",
    "score=[]\n",
    "for inputs, labels in tqdm(test_dataloader):\n",
    "    y_pred = trainer.predict(inputs)\n",
    "    score.append(mean_squared_error(y_pred, labels))\n",
    "print(np.mean(score))\n",
    "print(r2_score(y_pred, labels))"
   ]
  },
  {
   "cell_type": "code",
   "execution_count": 59,
   "id": "df901fe2-ff95-4a08-a5bf-db5f14db6228",
   "metadata": {},
   "outputs": [
    {
     "name": "stdout",
     "output_type": "stream",
     "text": [
      "tensor([0.6012]) tensor([0.5634])\n",
      "tensor([0.4684]) tensor([0.4190])\n",
      "tensor([0.8095]) tensor([1.])\n",
      "tensor([0.5958]) tensor([0.5246])\n",
      "tensor([0.6452]) tensor([0.6585])\n",
      "tensor([0.5370]) tensor([0.5352])\n",
      "tensor([0.6517]) tensor([0.5246])\n",
      "tensor([0.3290]) tensor([0.3099])\n",
      "tensor([0.5261]) tensor([0.3345])\n",
      "tensor([0.8424]) tensor([0.9437])\n",
      "tensor([0.5601]) tensor([0.6092])\n",
      "tensor([0.8072]) tensor([0.9965])\n",
      "tensor([0.5611]) tensor([0.5317])\n",
      "tensor([0.6436]) tensor([0.5845])\n",
      "tensor([0.4291]) tensor([0.4577])\n"
     ]
    }
   ],
   "source": [
    "for i in range(15):\n",
    "    print(y_pred[i], labels[i])"
   ]
  },
  {
   "attachments": {},
   "cell_type": "markdown",
   "id": "a0a06b52",
   "metadata": {},
   "source": [
    "The model is slightly overfitting, but it generalizes well for the first try. So far Ridge Regression outperforms our neural networks however we haven't played with optimizing the model (most parameters were chosen arbitrarily). \n",
    "\n",
    "However, it is possible that RidgeRegression will be the best performing model for this problem. Next steps would be to do thorough error analysis for all three models, see where model is not performing well and try to figure out why; optimizing the parameters of the neural networks would also be a smart next move. We can also examine how the models perform on eigenvalues obtained from MCA however I will not have enough time to do so (as approximate time limit has passed)"
   ]
  },
  {
   "attachments": {},
   "cell_type": "markdown",
   "id": "57267ba5",
   "metadata": {},
   "source": [
    "## Conclusions Overall\n",
    "There is enough data of good enough quality to create a prototype of predictive model for thermostability predictions. At the moment, Ridge Regression seems like the most promising model however neural networks also perform well, so it is very likely that after small optimization, they will outperform Ridge. Furthermore, we only exmained the models on the one-hot encoded data - examining the performance on embeddings would be an important next step, as they are likely to represent sequences better. \n",
    "\n",
    "Like in many other ML tasks, in this case it is clear that data preprocessing requires most effort, time and focus. Although one-hot encoding is the most basic approach for this kind of problem (even though it is commonly used), the development of predictive model was quite straightforward. "
   ]
  },
  {
   "attachments": {},
   "cell_type": "markdown",
   "id": "ccf2773a",
   "metadata": {},
   "source": [
    "## If I had more time\n",
    "\n",
    "As there is a limited time for this excercise, I took a slightly different approach to then one I usually take - normally I would spend way more time exploring the data, feature engineering etc, while here I tried to do bits of EDA, preprocessing & modelling at once. Nevertheless, there are many different things one could explore in both long-term and short-term:\n",
    "\n",
    "In short term, I would make sure to try:\n",
    "* Train embedding models from scratch, using only our data - I imagine this will be the most effective approach for representing embeddings, not very generelizable but good for our purposes\n",
    "* Do more exploratory work of the obtained embeddings - I only scratched the surface with using pretrained protBert, I could examine differ tokenizing strategies, different pretrained models, and seeing which represent the features best.\n",
    "* Examine different ways of representing sequences - for example SMILES or different ways of representing sequences as graphs (this could be particularly interesting when dealing with secondary and tertiary str). It would be also beneficial to reduce the no. of features.\n",
    "* Try more models - so far I only tried linear regression and neural networks, but there is a range of other models which could be useful such as SVMs, Random Forests, XGBoosts etc\n",
    "* fine-tuning hyperparameters of the model\n",
    "\n",
    "\n",
    "In the long term, I would also try:\n",
    "* Examine feature importance & explainability of our model - once we have a good data representation and good model, I could use SHAP or Limes or a different tool to examine feature importance and see which features contribute the most to predictions.  \n",
    "* Look into feature engineering - although we are mainly interested in the sequences data as presented, we could derive some additional features from it (such as molecular mass of each protein, ratio of different aa per sequence) which we could use for predicting thermostability.\n",
    "* examine if tools such as AlphaFold could help - currently we are only working with primary sequences but it could be worth to look into secondary/tertiary sequences as well, for that we can use alpha fold\n",
    "\n",
    "\n",
    "Of course I would also make sure to thoroughly test the code - most of the code snippets used here come from well-tested APIs or I have used in the past & know they work, but thorough unit-testing is essential to prevent catastrophes"
   ]
  }
 ],
 "metadata": {
  "kernelspec": {
   "display_name": ".venv",
   "language": "python",
   "name": "python3"
  },
  "language_info": {
   "codemirror_mode": {
    "name": "ipython",
    "version": 3
   },
   "file_extension": ".py",
   "mimetype": "text/x-python",
   "name": "python",
   "nbconvert_exporter": "python",
   "pygments_lexer": "ipython3",
   "version": "3.9.7"
  }
 },
 "nbformat": 4,
 "nbformat_minor": 5
}
